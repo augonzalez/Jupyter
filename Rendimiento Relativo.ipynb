{
 "cells": [
  {
   "cell_type": "markdown",
   "id": "949dcc36",
   "metadata": {},
   "source": [
    "\n",
    "# <center> Econometria Financiera <center>\n",
    "\n",
    "<h2><center>Ejercicios Práctica - Tarea #2</center></h2>\n",
    "\n",
    "<center> Ketherine Jimenez 1106918 - Aura Gonzalez 1106920 - Eddily Sanchez 1096853<center>\n",
    "<center>ProShares Hedge Replication ETF [UV6939].<center>"
   ]
  },
  {
   "cell_type": "markdown",
   "id": "6bf3974d",
   "metadata": {},
   "source": [
    "## Setup"
   ]
  },
  {
   "cell_type": "code",
   "execution_count": 84,
   "id": "a76d361f",
   "metadata": {},
   "outputs": [],
   "source": [
    "import numpy as np\n",
    "import pandas as pd\n",
    "import statsmodels.formula.api as smf\n",
    "import statsmodels.api as sm\n",
    "import matplotlib.pyplot as plt\n",
    "import seaborn as sns\n",
    "from dataclasses import dataclass\n",
    "import warnings\n",
    "sns.set()\n",
    "from statsmodels.regression.rolling import RollingOLS\n",
    "\n",
    "from portfolio import *\n",
    "\n",
    "import statsmodels.api as sm\n",
    "from scipy import stats\n",
    "\n",
    "from tabulate import tabulate\n",
    "\n",
    "from numpy.linalg import norm \n",
    "\n",
    "pd.set_option('display.float_format', lambda x: '%.4f' % x)"
   ]
  },
  {
   "cell_type": "markdown",
   "id": "c4bdc8de",
   "metadata": {},
   "source": [
    "## Data"
   ]
  },
  {
   "cell_type": "code",
   "execution_count": 57,
   "id": "35d4fa04",
   "metadata": {},
   "outputs": [],
   "source": [
    "path = 'proshares_analysis_data.xlsx'\n",
    "df_hedge_rep = pd.read_excel(path, sheet_name='hedge_fund_series').set_index('date')\n",
    "df_merrill_facs = pd.read_excel(path, sheet_name='merrill_factors').set_index('date')\n",
    "df_multi_asset = pd.read_excel(path, sheet_name='other_data').set_index('date')"
   ]
  },
  {
   "cell_type": "markdown",
   "id": "f981af45",
   "metadata": {},
   "source": [
    "## ProShares Hedge Replication ETF"
   ]
  },
  {
   "cell_type": "markdown",
   "id": "d3f43470",
   "metadata": {},
   "source": [
    "### 1. El producto de ProShares ETF"
   ]
  },
  {
   "cell_type": "markdown",
   "id": "701a50ca",
   "metadata": {},
   "source": [
    "    \n",
    "  ***1.“Alternive ETFs” (ETFs Alternativas)***\n",
    "  \n",
    "Describa dos tipos de inversiones referidas por este término en la lectura.\n",
    "  \n",
    "  \n",
    "  \n",
    "<br><br><br>\n",
    "    \n",
    "  ***2.Hedge Funds***\n",
    "    \n",
    "    a) Usando solo información de caso, ¿cuáles son las dos medidas por las cuales los hedge funds son una inversión atractiva?\n",
    "    \n",
    "Como se puede ver en el Exhibit , slide 9-10, el indice HFRI tiene un Sharpe RAtio mas alto que S&P500 (.84 vs .41), asi como un drawdown significativamente mas pequeño. El Slide 7 tambien resalta que HFRI no esta perfectamente correlacionado con los activos equities (acciones) y bonds (bonos), por lo que provee beneficios de diversificación a nivel de construcción de portafolio.\n",
    "    \n",
    "    b) ¿Cuáles son los beneficios de invertir en hedge fund via un ETF en comparación a invertir directamente en estos?\n",
    "\n",
    "<br><br><br>\n",
    "    ***3.The benchmark (Indices de Referencia)***\n",
    "    \n",
    "    \n",
    "    a) ¿Qué tan bien el Merril Lynch Factor Model (MLFM) replica el índice HFRI?\n",
    "    b) ¿En qué factores el Merrill Lynch Factor Model tiene la mayor beta?\n",
    "    c) ¿Cuáles serían las preocupaciones más grandes a la hora de evaluar el intendo de repiblica del índice HFRI por parte del Merryll Lynch Factor Model?\n",
    "\n",
    "\n",
    "    \n",
    "\n",
    "    \n",
    "    \n"
   ]
  },
  {
   "cell_type": "markdown",
   "id": "fd85ef83",
   "metadata": {},
   "source": [
    "### 2 Analizando la Data\n",
    "\n",
    "Utilice el archivo “proshares_analysis_data.xlsx”. El archivo tiene data mensual de los índices financieros y ETFs desde agosto del 2021 hasta septiembre 2021.\n",
    "\n",
    "\n",
    "***1. Para las series en el sheet “hedge_fund_series”, reporte los siguientes estadísticos:***\n",
    " \n",
    "    a) Media de Retornos\n",
    "    b) Volatilidad de los Retornos.\n",
    "    c) Sharpe Ratio\n",
    "\n",
    "Anualice los estos estadísticos."
   ]
  },
  {
   "cell_type": "code",
   "execution_count": 58,
   "id": "252939f9",
   "metadata": {},
   "outputs": [],
   "source": [
    "# Calculemos los excesos de retorno\n",
    "\n",
    "hedge_rep_portfolio_names = ['HFRIFWI Index', 'MLEIFCTR Index',\n",
    "    'MLEIFCTX Index', 'HDG US Equity', 'QAI US Equity']\n",
    "\n",
    "# Substrayendo tasa libre de riesgo:\n",
    "USGG3M = df_merrill_facs['USGG3M Index']\n",
    "df_hedge_rep_excess = df_hedge_rep.subtract(USGG3M, axis=0)\n",
    "\n"
   ]
  },
  {
   "cell_type": "code",
   "execution_count": 59,
   "id": "37599b65",
   "metadata": {},
   "outputs": [
    {
     "data": {
      "text/html": [
       "<style type=\"text/css\">\n",
       "</style>\n",
       "<table id=\"T_4c549\">\n",
       "  <caption>Tabla 1:  Resumen Estadístico del periodo 2011-2021 (Anualizado)</caption>\n",
       "  <thead>\n",
       "    <tr>\n",
       "      <th class=\"blank level0\" >&nbsp;</th>\n",
       "      <th id=\"T_4c549_level0_col0\" class=\"col_heading level0 col0\" >Mean</th>\n",
       "      <th id=\"T_4c549_level0_col1\" class=\"col_heading level0 col1\" >Vol</th>\n",
       "      <th id=\"T_4c549_level0_col2\" class=\"col_heading level0 col2\" >Sharpe</th>\n",
       "      <th id=\"T_4c549_level0_col3\" class=\"col_heading level0 col3\" >Min</th>\n",
       "      <th id=\"T_4c549_level0_col4\" class=\"col_heading level0 col4\" >Max</th>\n",
       "    </tr>\n",
       "  </thead>\n",
       "  <tbody>\n",
       "    <tr>\n",
       "      <th id=\"T_4c549_level0_row0\" class=\"row_heading level0 row0\" >HFRIFWI Index</th>\n",
       "      <td id=\"T_4c549_row0_col0\" class=\"data row0 col0\" >0.045074</td>\n",
       "      <td id=\"T_4c549_row0_col1\" class=\"data row0 col1\" >0.061717</td>\n",
       "      <td id=\"T_4c549_row0_col2\" class=\"data row0 col2\" >0.730323</td>\n",
       "      <td id=\"T_4c549_row0_col3\" class=\"data row0 col3\" >-0.090835</td>\n",
       "      <td id=\"T_4c549_row0_col4\" class=\"data row0 col4\" >0.058543</td>\n",
       "    </tr>\n",
       "    <tr>\n",
       "      <th id=\"T_4c549_level0_row1\" class=\"row_heading level0 row1\" >MLEIFCTR Index</th>\n",
       "      <td id=\"T_4c549_row1_col0\" class=\"data row1 col0\" >0.033110</td>\n",
       "      <td id=\"T_4c549_row1_col1\" class=\"data row1 col1\" >0.053979</td>\n",
       "      <td id=\"T_4c549_row1_col2\" class=\"data row1 col2\" >0.613385</td>\n",
       "      <td id=\"T_4c549_row1_col3\" class=\"data row1 col3\" >-0.053285</td>\n",
       "      <td id=\"T_4c549_row1_col4\" class=\"data row1 col4\" >0.058826</td>\n",
       "    </tr>\n",
       "    <tr>\n",
       "      <th id=\"T_4c549_level0_row2\" class=\"row_heading level0 row2\" >MLEIFCTX Index</th>\n",
       "      <td id=\"T_4c549_row2_col0\" class=\"data row2 col0\" >0.031619</td>\n",
       "      <td id=\"T_4c549_row2_col1\" class=\"data row2 col1\" >0.053816</td>\n",
       "      <td id=\"T_4c549_row2_col2\" class=\"data row2 col2\" >0.587539</td>\n",
       "      <td id=\"T_4c549_row2_col3\" class=\"data row2 col3\" >-0.052435</td>\n",
       "      <td id=\"T_4c549_row2_col4\" class=\"data row2 col4\" >0.058746</td>\n",
       "    </tr>\n",
       "    <tr>\n",
       "      <th id=\"T_4c549_level0_row3\" class=\"row_heading level0 row3\" >HDG US Equity</th>\n",
       "      <td id=\"T_4c549_row3_col0\" class=\"data row3 col0\" >0.022389</td>\n",
       "      <td id=\"T_4c549_row3_col1\" class=\"data row3 col1\" >0.056506</td>\n",
       "      <td id=\"T_4c549_row3_col2\" class=\"data row3 col2\" >0.396227</td>\n",
       "      <td id=\"T_4c549_row3_col3\" class=\"data row3 col3\" >-0.059242</td>\n",
       "      <td id=\"T_4c549_row3_col4\" class=\"data row3 col4\" >0.058245</td>\n",
       "    </tr>\n",
       "    <tr>\n",
       "      <th id=\"T_4c549_level0_row4\" class=\"row_heading level0 row4\" >QAI US Equity</th>\n",
       "      <td id=\"T_4c549_row4_col0\" class=\"data row4 col0\" >0.019780</td>\n",
       "      <td id=\"T_4c549_row4_col1\" class=\"data row4 col1\" >0.045583</td>\n",
       "      <td id=\"T_4c549_row4_col2\" class=\"data row4 col2\" >0.433930</td>\n",
       "      <td id=\"T_4c549_row4_col3\" class=\"data row4 col3\" >-0.056397</td>\n",
       "      <td id=\"T_4c549_row4_col4\" class=\"data row4 col4\" >0.034129</td>\n",
       "    </tr>\n",
       "  </tbody>\n",
       "</table>\n"
      ],
      "text/plain": [
       "<pandas.io.formats.style.Styler at 0x12e499f10>"
      ]
     },
     "execution_count": 59,
     "metadata": {},
     "output_type": "execute_result"
    }
   ],
   "source": [
    "Performance = performanceMetrics(df_hedge_rep_excess,12)\n",
    "Performance.style.set_caption('Tabla 1:  Resumen Estadístico del periodo 2011-2021 (Anualizado)')"
   ]
  },
  {
   "cell_type": "markdown",
   "id": "6e42266b",
   "metadata": {},
   "source": [
    "\n",
    "\n",
    "***2. Para las series de tiempo en el sheet “hedge_fund_series”, reporte los siguientes estadísticos relacionados con riesgo de cola:***\n",
    "\n",
    "    a) Coeficiente de Asimetría.\n",
    "    b) Exceso de Curtosis (en exceso de 3).\n",
    "    c) VaR (.05) – el quinto quintil (percentil 5) de los retornos históricos.\n",
    "    d) CVaR(.05) – la media de los retornos en o por debajo de quinto quintil.\n",
    "    e) Maximum Drawdown – incluya las fechas de max/min/recovery dentro del periodo del max drawdown."
   ]
  },
  {
   "cell_type": "code",
   "execution_count": 80,
   "id": "8549b99f",
   "metadata": {},
   "outputs": [
    {
     "data": {
      "text/plain": [
       "HFRIFWI Index    -1.0758\n",
       "MLEIFCTR Index   -0.1791\n",
       "MLEIFCTX Index   -0.1645\n",
       "HDG US Equity    -0.1675\n",
       "QAI US Equity    -0.5185\n",
       "dtype: float64"
      ]
     },
     "execution_count": 80,
     "metadata": {},
     "output_type": "execute_result"
    }
   ],
   "source": [
    "#coeficiente de asimetria\n",
    "df_hedge_rep_excess.skew()\n"
   ]
  },
  {
   "cell_type": "code",
   "execution_count": 81,
   "id": "d3c049d8",
   "metadata": {},
   "outputs": [
    {
     "data": {
      "text/plain": [
       "HFRIFWI Index    6.5384\n",
       "MLEIFCTR Index   2.4399\n",
       "MLEIFCTX Index   2.3882\n",
       "HDG US Equity    2.5834\n",
       "QAI US Equity    2.5999\n",
       "dtype: float64"
      ]
     },
     "execution_count": 81,
     "metadata": {},
     "output_type": "execute_result"
    }
   ],
   "source": [
    "#Exceso de curtosis\n",
    "df_hedge_rep_excess.kurtosis()"
   ]
  },
  {
   "cell_type": "code",
   "execution_count": 79,
   "id": "ab32e6b0",
   "metadata": {},
   "outputs": [
    {
     "name": "stdout",
     "output_type": "stream",
     "text": [
      "Confidence Level      Value at Risk\n",
      "------------------  ---------------\n",
      "90%                      -0.0156157\n",
      "95%                      -0.0285294\n",
      "99%                      -0.0339098\n"
     ]
    }
   ],
   "source": [
    "# Calculate the VaR \n",
    "VaR_90 = df_hedge_rep_excess['HDG US Equity'].quantile(0.1)\n",
    "VaR_95 = df_hedge_rep_excess['HDG US Equity'].quantile(0.05)\n",
    "VaR_99 = df_hedge_rep_excess['HDG US Equity'].quantile(0.01)\n",
    "\n",
    "\n",
    "print (tabulate([['90%', VaR_90], ['95%', VaR_95], ['99%', VaR_99]], headers = ['Confidence Level', 'Value at Risk']))\n"
   ]
  },
  {
   "cell_type": "code",
   "execution_count": 89,
   "id": "83dcb77f",
   "metadata": {},
   "outputs": [
    {
     "ename": "AttributeError",
     "evalue": "'function' object has no attribute 'ppf'",
     "output_type": "error",
     "traceback": [
      "\u001b[0;31m---------------------------------------------------------------------------\u001b[0m",
      "\u001b[0;31mAttributeError\u001b[0m                            Traceback (most recent call last)",
      "Input \u001b[0;32mIn [89]\u001b[0m, in \u001b[0;36m<cell line: 2>\u001b[0;34m()\u001b[0m\n\u001b[1;32m      1\u001b[0m \u001b[38;5;66;03m# Compute the 95% VaR using the .ppf()\u001b[39;00m\n\u001b[0;32m----> 2\u001b[0m VaR_95 \u001b[38;5;241m=\u001b[39m \u001b[43mnorm\u001b[49m\u001b[38;5;241;43m.\u001b[39;49m\u001b[43mppf\u001b[49m(\u001b[38;5;241m0.95\u001b[39m, loc \u001b[38;5;241m=\u001b[39m \u001b[38;5;241m1\u001b[39m, scale \u001b[38;5;241m=\u001b[39m \u001b[38;5;241m0.5\u001b[39m )\n",
      "\u001b[0;31mAttributeError\u001b[0m: 'function' object has no attribute 'ppf'"
     ]
    }
   ],
   "source": [
    "# Compute the 95% VaR using the .ppf()\n",
    "VaR_95 = norm.ppf(0.95, loc = 1, scale = 0.5 )\n"
   ]
  },
  {
   "cell_type": "code",
   "execution_count": 62,
   "id": "d7c7fe49",
   "metadata": {},
   "outputs": [
    {
     "data": {
      "text/html": [
       "<div>\n",
       "<style scoped>\n",
       "    .dataframe tbody tr th:only-of-type {\n",
       "        vertical-align: middle;\n",
       "    }\n",
       "\n",
       "    .dataframe tbody tr th {\n",
       "        vertical-align: top;\n",
       "    }\n",
       "\n",
       "    .dataframe thead th {\n",
       "        text-align: right;\n",
       "    }\n",
       "</style>\n",
       "<table border=\"1\" class=\"dataframe\">\n",
       "  <thead>\n",
       "    <tr style=\"text-align: right;\">\n",
       "      <th></th>\n",
       "      <th>Max Drawdown</th>\n",
       "      <th>Peak</th>\n",
       "      <th>Bottom</th>\n",
       "      <th>Recover</th>\n",
       "      <th>Duration (to Recover)</th>\n",
       "    </tr>\n",
       "  </thead>\n",
       "  <tbody>\n",
       "    <tr>\n",
       "      <th>HFRIFWI Index</th>\n",
       "      <td>-0.1274</td>\n",
       "      <td>2018-01-31</td>\n",
       "      <td>2020-03-31</td>\n",
       "      <td>2020-08-31</td>\n",
       "      <td>943 days</td>\n",
       "    </tr>\n",
       "    <tr>\n",
       "      <th>MLEIFCTR Index</th>\n",
       "      <td>-0.0867</td>\n",
       "      <td>2019-12-31</td>\n",
       "      <td>2020-03-31</td>\n",
       "      <td>2020-11-30</td>\n",
       "      <td>335 days</td>\n",
       "    </tr>\n",
       "    <tr>\n",
       "      <th>MLEIFCTX Index</th>\n",
       "      <td>-0.0859</td>\n",
       "      <td>2019-12-31</td>\n",
       "      <td>2020-03-31</td>\n",
       "      <td>2020-11-30</td>\n",
       "      <td>335 days</td>\n",
       "    </tr>\n",
       "    <tr>\n",
       "      <th>HDG US Equity</th>\n",
       "      <td>-0.0961</td>\n",
       "      <td>2018-01-31</td>\n",
       "      <td>2020-03-31</td>\n",
       "      <td>2020-11-30</td>\n",
       "      <td>1034 days</td>\n",
       "    </tr>\n",
       "    <tr>\n",
       "      <th>QAI US Equity</th>\n",
       "      <td>-0.0864</td>\n",
       "      <td>2018-01-31</td>\n",
       "      <td>2020-03-31</td>\n",
       "      <td>2020-08-31</td>\n",
       "      <td>943 days</td>\n",
       "    </tr>\n",
       "  </tbody>\n",
       "</table>\n",
       "</div>"
      ],
      "text/plain": [
       "                Max Drawdown       Peak     Bottom    Recover  \\\n",
       "HFRIFWI Index        -0.1274 2018-01-31 2020-03-31 2020-08-31   \n",
       "MLEIFCTR Index       -0.0867 2019-12-31 2020-03-31 2020-11-30   \n",
       "MLEIFCTX Index       -0.0859 2019-12-31 2020-03-31 2020-11-30   \n",
       "HDG US Equity        -0.0961 2018-01-31 2020-03-31 2020-11-30   \n",
       "QAI US Equity        -0.0864 2018-01-31 2020-03-31 2020-08-31   \n",
       "\n",
       "               Duration (to Recover)  \n",
       "HFRIFWI Index               943 days  \n",
       "MLEIFCTR Index              335 days  \n",
       "MLEIFCTX Index              335 days  \n",
       "HDG US Equity              1034 days  \n",
       "QAI US Equity               943 days  "
      ]
     },
     "execution_count": 62,
     "metadata": {},
     "output_type": "execute_result"
    }
   ],
   "source": [
    "#Maximun Drawdown\n",
    "\n",
    "maximumDrawdown(df_hedge_rep_excess)"
   ]
  },
  {
   "cell_type": "markdown",
   "id": "f5da3eb6",
   "metadata": {},
   "source": [
    "\n",
    "***3. Para las series de tiempo en el sheet “hedge_fund_series”, realice una regresión lineal en contra de SPY (se encuentra en el sheet “merrill_factors”). Incluya intercepto. Reporte los siguientes estadísticos:***\n",
    "\n",
    "    a) Market Beta.\n",
    "    b) Treynor Ratio.\n",
    "    c) Information Ratio.\n",
    "    \n",
    " Analice los estadísticos."
   ]
  },
  {
   "cell_type": "code",
   "execution_count": null,
   "id": "98290407",
   "metadata": {},
   "outputs": [],
   "source": []
  },
  {
   "cell_type": "code",
   "execution_count": 63,
   "id": "18e24698",
   "metadata": {},
   "outputs": [],
   "source": [
    "# Vamos a utilizar el statsmodels package de python\n",
    "\n",
    "\n",
    "#Definimos y\n",
    "y = (df_merrill_facs['SPY US Equity'])\n",
    "\n",
    "# Definimos los factores X y utilizamos .add_constant() para agregar constante a la regresión. \n",
    "# Si no utilizamos .add_constant la regresión no tendrá constante.\n",
    "X = sm.add_constant(df_hedge_rep)\n",
    "static_model = sm.OLS(y,X).fit()"
   ]
  },
  {
   "cell_type": "code",
   "execution_count": 64,
   "id": "75a6ad60",
   "metadata": {},
   "outputs": [
    {
     "data": {
      "text/html": [
       "<div>\n",
       "<style scoped>\n",
       "    .dataframe tbody tr th:only-of-type {\n",
       "        vertical-align: middle;\n",
       "    }\n",
       "\n",
       "    .dataframe tbody tr th {\n",
       "        vertical-align: top;\n",
       "    }\n",
       "\n",
       "    .dataframe thead th {\n",
       "        text-align: right;\n",
       "    }\n",
       "</style>\n",
       "<table border=\"1\" class=\"dataframe\">\n",
       "  <thead>\n",
       "    <tr style=\"text-align: right;\">\n",
       "      <th></th>\n",
       "      <th>Parametros de la Regresión</th>\n",
       "    </tr>\n",
       "  </thead>\n",
       "  <tbody>\n",
       "    <tr>\n",
       "      <th>const</th>\n",
       "      <td>0.0036</td>\n",
       "    </tr>\n",
       "    <tr>\n",
       "      <th>HFRIFWI Index</th>\n",
       "      <td>0.3638</td>\n",
       "    </tr>\n",
       "    <tr>\n",
       "      <th>MLEIFCTR Index</th>\n",
       "      <td>9.7839</td>\n",
       "    </tr>\n",
       "    <tr>\n",
       "      <th>MLEIFCTX Index</th>\n",
       "      <td>-8.1266</td>\n",
       "    </tr>\n",
       "    <tr>\n",
       "      <th>HDG US Equity</th>\n",
       "      <td>-0.2269</td>\n",
       "    </tr>\n",
       "    <tr>\n",
       "      <th>QAI US Equity</th>\n",
       "      <td>0.6079</td>\n",
       "    </tr>\n",
       "  </tbody>\n",
       "</table>\n",
       "</div>"
      ],
      "text/plain": [
       "                Parametros de la Regresión\n",
       "const                               0.0036\n",
       "HFRIFWI Index                       0.3638\n",
       "MLEIFCTR Index                      9.7839\n",
       "MLEIFCTX Index                     -8.1266\n",
       "HDG US Equity                      -0.2269\n",
       "QAI US Equity                       0.6079"
      ]
     },
     "execution_count": 64,
     "metadata": {},
     "output_type": "execute_result"
    }
   ],
   "source": [
    "# utilizamos el comando .params.to_frame() para mostrar parametros de regresión \n",
    "static_model.params.to_frame('Parametros de la Regresión')"
   ]
  },
  {
   "cell_type": "code",
   "execution_count": 65,
   "id": "67551375",
   "metadata": {},
   "outputs": [
    {
     "data": {
      "text/html": [
       "<style type=\"text/css\">\n",
       "</style>\n",
       "<table id=\"T_642e6\">\n",
       "  <caption>Tabla 1: 2011-2020 Resumen Estadístico 2</caption>\n",
       "  <thead>\n",
       "    <tr>\n",
       "      <th class=\"blank level0\" >&nbsp;</th>\n",
       "      <th id=\"T_642e6_level0_col0\" class=\"col_heading level0 col0\" >alpha</th>\n",
       "      <th id=\"T_642e6_level0_col1\" class=\"col_heading level0 col1\" >SPY US Equity</th>\n",
       "      <th id=\"T_642e6_level0_col2\" class=\"col_heading level0 col2\" >r-squared</th>\n",
       "      <th id=\"T_642e6_level0_col3\" class=\"col_heading level0 col3\" >Treynor Ratio</th>\n",
       "      <th id=\"T_642e6_level0_col4\" class=\"col_heading level0 col4\" >Mkt Corr</th>\n",
       "      <th id=\"T_642e6_level0_col5\" class=\"col_heading level0 col5\" >Info Ratio</th>\n",
       "    </tr>\n",
       "  </thead>\n",
       "  <tbody>\n",
       "    <tr>\n",
       "      <th id=\"T_642e6_level0_row0\" class=\"row_heading level0 row0\" >SPY US Equity</th>\n",
       "      <td id=\"T_642e6_row0_col0\" class=\"data row0 col0\" >0.000000</td>\n",
       "      <td id=\"T_642e6_row0_col1\" class=\"data row0 col1\" >1.000000</td>\n",
       "      <td id=\"T_642e6_row0_col2\" class=\"data row0 col2\" >1.000000</td>\n",
       "      <td id=\"T_642e6_row0_col3\" class=\"data row0 col3\" >0.147548</td>\n",
       "      <td id=\"T_642e6_row0_col4\" class=\"data row0 col4\" >1.000000</td>\n",
       "      <td id=\"T_642e6_row0_col5\" class=\"data row0 col5\" >nan</td>\n",
       "    </tr>\n",
       "    <tr>\n",
       "      <th id=\"T_642e6_level0_row1\" class=\"row_heading level0 row1\" >USGG3M Index</th>\n",
       "      <td id=\"T_642e6_row1_col0\" class=\"data row1 col0\" >0.005859</td>\n",
       "      <td id=\"T_642e6_row1_col1\" class=\"data row1 col1\" >-0.001007</td>\n",
       "      <td id=\"T_642e6_row1_col2\" class=\"data row1 col2\" >0.003506</td>\n",
       "      <td id=\"T_642e6_row1_col3\" class=\"data row1 col3\" >-5.673148</td>\n",
       "      <td id=\"T_642e6_row1_col4\" class=\"data row1 col4\" >0.059214</td>\n",
       "      <td id=\"T_642e6_row1_col5\" class=\"data row1 col5\" >2.550715</td>\n",
       "    </tr>\n",
       "    <tr>\n",
       "      <th id=\"T_642e6_level0_row2\" class=\"row_heading level0 row2\" >EEM US Equity</th>\n",
       "      <td id=\"T_642e6_row2_col0\" class=\"data row2 col0\" >-0.102123</td>\n",
       "      <td id=\"T_642e6_row2_col1\" class=\"data row2 col1\" >0.986917</td>\n",
       "      <td id=\"T_642e6_row2_col2\" class=\"data row2 col2\" >0.531035</td>\n",
       "      <td id=\"T_642e6_row2_col3\" class=\"data row2 col3\" >0.044072</td>\n",
       "      <td id=\"T_642e6_row2_col4\" class=\"data row2 col4\" >0.728721</td>\n",
       "      <td id=\"T_642e6_row2_col5\" class=\"data row2 col5\" >-0.813454</td>\n",
       "    </tr>\n",
       "    <tr>\n",
       "      <th id=\"T_642e6_level0_row3\" class=\"row_heading level0 row3\" >EFA US Equity</th>\n",
       "      <td id=\"T_642e6_row3_col0\" class=\"data row3 col0\" >-0.070531</td>\n",
       "      <td id=\"T_642e6_row3_col1\" class=\"data row3 col1\" >0.936006</td>\n",
       "      <td id=\"T_642e6_row3_col2\" class=\"data row3 col2\" >0.742602</td>\n",
       "      <td id=\"T_642e6_row3_col3\" class=\"data row3 col3\" >0.072194</td>\n",
       "      <td id=\"T_642e6_row3_col4\" class=\"data row3 col4\" >0.861743</td>\n",
       "      <td id=\"T_642e6_row3_col5\" class=\"data row3 col5\" >-0.945540</td>\n",
       "    </tr>\n",
       "    <tr>\n",
       "      <th id=\"T_642e6_level0_row4\" class=\"row_heading level0 row4\" >EUO US Equity</th>\n",
       "      <td id=\"T_642e6_row4_col0\" class=\"data row4 col0\" >0.106914</td>\n",
       "      <td id=\"T_642e6_row4_col1\" class=\"data row4 col1\" >-0.387362</td>\n",
       "      <td id=\"T_642e6_row4_col2\" class=\"data row4 col2\" >0.112421</td>\n",
       "      <td id=\"T_642e6_row4_col3\" class=\"data row4 col3\" >-0.128458</td>\n",
       "      <td id=\"T_642e6_row4_col4\" class=\"data row4 col4\" >0.335292</td>\n",
       "      <td id=\"T_642e6_row4_col5\" class=\"data row4 col5\" >0.725671</td>\n",
       "    </tr>\n",
       "    <tr>\n",
       "      <th id=\"T_642e6_level0_row5\" class=\"row_heading level0 row5\" >IWM US Equity</th>\n",
       "      <td id=\"T_642e6_row5_col0\" class=\"data row5 col0\" >-0.048441</td>\n",
       "      <td id=\"T_642e6_row5_col1\" class=\"data row5 col1\" >1.221265</td>\n",
       "      <td id=\"T_642e6_row5_col2\" class=\"data row5 col2\" >0.776593</td>\n",
       "      <td id=\"T_642e6_row5_col3\" class=\"data row5 col3\" >0.107884</td>\n",
       "      <td id=\"T_642e6_row5_col4\" class=\"data row5 col4\" >0.881245</td>\n",
       "      <td id=\"T_642e6_row5_col5\" class=\"data row5 col5\" >-0.546322</td>\n",
       "    </tr>\n",
       "  </tbody>\n",
       "</table>\n"
      ],
      "text/plain": [
       "<pandas.io.formats.style.Styler at 0x12a0ef490>"
      ]
     },
     "execution_count": 65,
     "metadata": {},
     "output_type": "execute_result"
    }
   ],
   "source": [
    "OLS_METRICS = get_ols_metrics(df_merrill_facs[['SPY US Equity']],df_merrill_facs,12)\n",
    "OLS_METRICS.style.set_caption('Tabla 2: Resumen Estadístico de la regresión lineal en contra de SPY 2011-2021')"
   ]
  },
  {
   "cell_type": "code",
   "execution_count": null,
   "id": "3ae02867",
   "metadata": {},
   "outputs": [],
   "source": []
  },
  {
   "cell_type": "markdown",
   "id": "97648053",
   "metadata": {},
   "source": [
    "### 4. Rendimiento Relativo.\n",
    "\n",
    "***Discuta los estadísticos anteriores, que estos nos dicen de:***\n",
    "\n",
    "    a) ¿Qué diferencias entre SPY y las series de retornos de Hedge Funds?\n",
    "    b) ¿Cuál tiene un mejor rendimiento entre HDG y QAL?\n",
    "    c) Entre HDG y ML captura las propiedades más notables de HFRI.\n"
   ]
  },
  {
   "cell_type": "markdown",
   "id": "42db89de",
   "metadata": {},
   "source": [
    "**Solución: Primero, notamos algunas cosas sobre la muestra completa:\n",
    "\n",
    "- HDG tiene una media baja, alta volatilidad, y un SR por debajo de sus competidores, QAI, sobre la muestra completa. Además, QAI, tiene una correlación mas baja con S&P 500 (SPY).\n",
    "\n",
    "- El indeice HFRI tiene un SR mas alto que los indices ML, y un SR mas grande que los replicadores, HDG y QAI.\n",
    "\n",
    "\n",
    "En los años años posteriores 2014-2020 notamos lo siguiente:\n",
    "\n",
    "- Los Sharpe Ratios, market betas, correlacion son similares como en el muetra completa.\n",
    "- QAI tiene mejore resultados que HDG desde 2014 tanto exceso de retornos como Sharpe Ratio.\n",
    "- El índice MLEIFCTX continua haciendo un buen trabajo siguiendo las propiedades de MLEIFCTR, por lo menos obsevando la media, volatilidad y market beta de los retornos\n",
    "- SPY tiene mayor exceso de retornos que cualquier otro instrumento o índice, aunque tiene una volatilidad mucho mayor. Aun así, SPY tiene el mayor Sharpe Ratio."
   ]
  },
  {
   "cell_type": "markdown",
   "id": "9c24ef31",
   "metadata": {},
   "source": [
    "***5. Reporte la matriz de correlación de estos activos.***\n",
    "     \n",
    "     a. Muestre las correlaciones usando un mapa de calor.\n",
    "     b. ¿Qué series tienen la correlación más baja y alta?"
   ]
  },
  {
   "cell_type": "code",
   "execution_count": 14,
   "id": "58696985",
   "metadata": {
    "scrolled": true
   },
   "outputs": [
    {
     "name": "stdout",
     "output_type": "stream",
     "text": [
      "MIN Correlation pair is ('QAI US Equity', 'HDG US Equity')\n",
      "MAX Correlation pair is ('MLEIFCTX Index', 'MLEIFCTR Index')\n"
     ]
    },
    {
     "data": {
      "image/png": "[encoded data removed]",
      "text/plain": [
       "<Figure size 432x288 with 2 Axes>"
      ]
     },
     "metadata": {},
     "output_type": "display_data"
    }
   ],
   "source": [
    "corrmat = df_hedge_rep.corr()\n",
    "\n",
    "#ignore self-correlation\n",
    "corrmat[corrmat==1] = None\n",
    "sns.heatmap(corrmat)\n",
    "\n",
    "corr_rank = corrmat.unstack().sort_values().dropna()\n",
    "pair_max = corr_rank.index[-1]\n",
    "pair_min = corr_rank.index[0]\n",
    "\n",
    "print(f'MIN Correlation pair is {pair_min}')\n",
    "print(f'MAX Correlation pair is {pair_max}')\n"
   ]
  },
  {
   "cell_type": "markdown",
   "id": "77f2d51f",
   "metadata": {},
   "source": [
    "***6. Replique el índice HFRI con los seis factores listados en el sheet “merril_factor”. Incluya una constante, y realice la regresión sin restricciones:***\n",
    "\n",
    "<br><br>\n",
    "$$r_t^{hfri} = \\alpha^{merr} + x_t^{merr} \\beta^{merr} +\\epsilon_t^{merr}$$\n",
    "$$r_t^{hfri->merr} = \\hat{\\alpha^{merr}} + x_t^{merr} \\hat{\\beta^{merr}} +\\epsilon_t^{merr}$$\n",
    " \n",
    "Note que la segunda ecuación es solo nuestra notación para la replicación. \n",
    "\n",
    "a. Reporte el intercepto y los betas.\n",
    "\n",
    "b. ¿Son estos betas tamaño de posiciones reales, o acaso necesitan de posicione long-short grandes?\n",
    "\n",
    "c. Reporte el R-cuadrado. \n",
    "\n",
    "d. Reporte la volatilidad de ε^merr. (Tracking Error/Error de Seguimiento)."
   ]
  },
  {
   "cell_type": "code",
   "execution_count": 95,
   "id": "21fecaca",
   "metadata": {},
   "outputs": [],
   "source": [
    "# Vamos a utilizar el statsmodels package de python\n",
    "\n",
    "#Definimos y\n",
    "y = (df_hedge_rep['HFRIFWI Index'])\n",
    "\n",
    "# Definimos los factores X y utilizamos .add_constant() para agregar constante a la regresión. \n",
    "# Si no utilizamos .add_constant la regresión no tendrá constante.\n",
    "X = sm.add_constant(df_merrill_facs)\n",
    "static_model1 = sm.OLS(y,X).fit()"
   ]
  },
  {
   "cell_type": "code",
   "execution_count": 96,
   "id": "fc15f69f",
   "metadata": {},
   "outputs": [
    {
     "data": {
      "text/html": [
       "<div>\n",
       "<style scoped>\n",
       "    .dataframe tbody tr th:only-of-type {\n",
       "        vertical-align: middle;\n",
       "    }\n",
       "\n",
       "    .dataframe tbody tr th {\n",
       "        vertical-align: top;\n",
       "    }\n",
       "\n",
       "    .dataframe thead th {\n",
       "        text-align: right;\n",
       "    }\n",
       "</style>\n",
       "<table border=\"1\" class=\"dataframe\">\n",
       "  <thead>\n",
       "    <tr style=\"text-align: right;\">\n",
       "      <th></th>\n",
       "      <th>Parametros de la Regresión</th>\n",
       "    </tr>\n",
       "  </thead>\n",
       "  <tbody>\n",
       "    <tr>\n",
       "      <th>const</th>\n",
       "      <td>0.0011</td>\n",
       "    </tr>\n",
       "    <tr>\n",
       "      <th>SPY US Equity</th>\n",
       "      <td>0.0720</td>\n",
       "    </tr>\n",
       "    <tr>\n",
       "      <th>USGG3M Index</th>\n",
       "      <td>-0.4006</td>\n",
       "    </tr>\n",
       "    <tr>\n",
       "      <th>EEM US Equity</th>\n",
       "      <td>0.0722</td>\n",
       "    </tr>\n",
       "    <tr>\n",
       "      <th>EFA US Equity</th>\n",
       "      <td>0.1063</td>\n",
       "    </tr>\n",
       "    <tr>\n",
       "      <th>EUO US Equity</th>\n",
       "      <td>0.0224</td>\n",
       "    </tr>\n",
       "    <tr>\n",
       "      <th>IWM US Equity</th>\n",
       "      <td>0.1309</td>\n",
       "    </tr>\n",
       "  </tbody>\n",
       "</table>\n",
       "</div>"
      ],
      "text/plain": [
       "               Parametros de la Regresión\n",
       "const                              0.0011\n",
       "SPY US Equity                      0.0720\n",
       "USGG3M Index                      -0.4006\n",
       "EEM US Equity                      0.0722\n",
       "EFA US Equity                      0.1063\n",
       "EUO US Equity                      0.0224\n",
       "IWM US Equity                      0.1309"
      ]
     },
     "execution_count": 96,
     "metadata": {},
     "output_type": "execute_result"
    }
   ],
   "source": [
    "# utilizamos el comando .params.to_frame() para mostrar parametros de regresión \n",
    "static_model.params.to_frame('Parametros de la Regresión')"
   ]
  },
  {
   "cell_type": "code",
   "execution_count": 97,
   "id": "7b5c6673",
   "metadata": {},
   "outputs": [
    {
     "data": {
      "text/plain": [
       "0.8557"
      ]
     },
     "execution_count": 97,
     "metadata": {},
     "output_type": "execute_result"
    }
   ],
   "source": [
    "# R Cuadrado de la Regresión \n",
    "round(static_model1.rsquared,4)"
   ]
  },
  {
   "cell_type": "code",
   "execution_count": 98,
   "id": "314de20b",
   "metadata": {},
   "outputs": [
    {
     "data": {
      "text/plain": [
       "0.0234"
      ]
     },
     "execution_count": 98,
     "metadata": {},
     "output_type": "execute_result"
    }
   ],
   "source": [
    "# utilizamos .resid.std() para encontrar la desviación estandar de los residuos y analuzamos. \n",
    "round(static_model1.resid.std() * np.sqrt(12),4)"
   ]
  },
  {
   "cell_type": "markdown",
   "id": "5f560035",
   "metadata": {},
   "source": [
    "El tranking error es de un 2.34%, lo que nos dice que es una gestión con algo de riesgo, pero controlada."
   ]
  },
  {
   "cell_type": "markdown",
   "id": "55523382",
   "metadata": {},
   "source": [
    "***7. Ahora vamos a evaluar el rendimiento fuera de muestra (out of sample performance).***\n",
    "\n",
    "Empezando con t = 61 meses de la muestra, haga los siguiente:\n",
    "• Use los 60 meses anteriores para estimar la regresión del ejercicio 6. Esto nos va de los estimados en el\n",
    "𝑚𝑒𝑟𝑟 ̂ 𝑚𝑒𝑟𝑟 tiempo-t de los parámetros de la regresión, 𝛼̂𝑡 y 𝛽𝑡 .\n",
    "• Use los parámetros estimados de la regresión, así como los valores 𝑥𝑚𝑒𝑟𝑟, para calcular el valor 𝑡\n",
    "replicado en el tiempo-t5 eso es, con respecto a los estimados de la regresión, construya el “out-of- sample” (OOS).\n",
    "\n",
    "$$r_t^{hfri->merr:OOS} = \\hat{\\alpha_t^{merr}} + (x_t^{merr})^{'} \\hat{\\beta_t^{merr}}$$\n",
    "\n",
    "• Luego adelántese a t=62, y luego use t=2 hasta t=61 para la estimación. Re-itere los pasos anteriores usando la toda la data dispobinle. Por ender, estamos realizando una Rolling Regression (regresión movil) de 60 meses para cada punto en el tiempo. 6\n",
    "\n",
    "¿Qué tan bien es el rendimiento de 𝑟̂^h𝑓𝑟𝑖→𝑚𝑒𝑟𝑟:𝑂𝑂𝑆, particularmente con la variable objetivo, 𝑟̂^h𝑓𝑟𝑖?"
   ]
  },
  {
   "cell_type": "code",
   "execution_count": 101,
   "id": "b205a964",
   "metadata": {},
   "outputs": [
    {
     "name": "stdout",
     "output_type": "stream",
     "text": [
      "Cantidad de Meses:  65\n"
     ]
    }
   ],
   "source": [
    "# Utilzaremos la fución rolling regression para realizar regresiones \n",
    "\n",
    "# Primero determinaremos la cantidad de meses de data entre 2011 hasta 2015.\n",
    "\n",
    "w = len(y[:'2016'])\n",
    "print('Cantidad de Meses: ',w)"
   ]
  },
  {
   "cell_type": "code",
   "execution_count": 11,
   "id": "b07e5bf2",
   "metadata": {},
   "outputs": [
    {
     "data": {
      "text/html": [
       "<div>\n",
       "<style scoped>\n",
       "    .dataframe tbody tr th:only-of-type {\n",
       "        vertical-align: middle;\n",
       "    }\n",
       "\n",
       "    .dataframe tbody tr th {\n",
       "        vertical-align: top;\n",
       "    }\n",
       "\n",
       "    .dataframe thead th {\n",
       "        text-align: right;\n",
       "    }\n",
       "</style>\n",
       "<table border=\"1\" class=\"dataframe\">\n",
       "  <thead>\n",
       "    <tr style=\"text-align: right;\">\n",
       "      <th></th>\n",
       "      <th>const</th>\n",
       "      <th>SPY US Equity</th>\n",
       "      <th>USGG3M Index</th>\n",
       "      <th>EEM US Equity</th>\n",
       "      <th>EFA US Equity</th>\n",
       "      <th>EUO US Equity</th>\n",
       "      <th>IWM US Equity</th>\n",
       "    </tr>\n",
       "    <tr>\n",
       "      <th>date</th>\n",
       "      <th></th>\n",
       "      <th></th>\n",
       "      <th></th>\n",
       "      <th></th>\n",
       "      <th></th>\n",
       "      <th></th>\n",
       "      <th></th>\n",
       "    </tr>\n",
       "  </thead>\n",
       "  <tbody>\n",
       "    <tr>\n",
       "      <th>2011-07-31</th>\n",
       "      <td>NaN</td>\n",
       "      <td>NaN</td>\n",
       "      <td>NaN</td>\n",
       "      <td>NaN</td>\n",
       "      <td>NaN</td>\n",
       "      <td>NaN</td>\n",
       "      <td>NaN</td>\n",
       "    </tr>\n",
       "    <tr>\n",
       "      <th>2011-08-31</th>\n",
       "      <td>NaN</td>\n",
       "      <td>NaN</td>\n",
       "      <td>NaN</td>\n",
       "      <td>NaN</td>\n",
       "      <td>NaN</td>\n",
       "      <td>NaN</td>\n",
       "      <td>NaN</td>\n",
       "    </tr>\n",
       "    <tr>\n",
       "      <th>2011-09-30</th>\n",
       "      <td>NaN</td>\n",
       "      <td>NaN</td>\n",
       "      <td>NaN</td>\n",
       "      <td>NaN</td>\n",
       "      <td>NaN</td>\n",
       "      <td>NaN</td>\n",
       "      <td>NaN</td>\n",
       "    </tr>\n",
       "    <tr>\n",
       "      <th>2011-10-31</th>\n",
       "      <td>NaN</td>\n",
       "      <td>NaN</td>\n",
       "      <td>NaN</td>\n",
       "      <td>NaN</td>\n",
       "      <td>NaN</td>\n",
       "      <td>NaN</td>\n",
       "      <td>NaN</td>\n",
       "    </tr>\n",
       "    <tr>\n",
       "      <th>2011-11-30</th>\n",
       "      <td>NaN</td>\n",
       "      <td>NaN</td>\n",
       "      <td>NaN</td>\n",
       "      <td>NaN</td>\n",
       "      <td>NaN</td>\n",
       "      <td>NaN</td>\n",
       "      <td>NaN</td>\n",
       "    </tr>\n",
       "    <tr>\n",
       "      <th>...</th>\n",
       "      <td>...</td>\n",
       "      <td>...</td>\n",
       "      <td>...</td>\n",
       "      <td>...</td>\n",
       "      <td>...</td>\n",
       "      <td>...</td>\n",
       "      <td>...</td>\n",
       "    </tr>\n",
       "    <tr>\n",
       "      <th>2020-05-31</th>\n",
       "      <td>-0.0018</td>\n",
       "      <td>0.0765</td>\n",
       "      <td>1.3365</td>\n",
       "      <td>0.1044</td>\n",
       "      <td>0.1194</td>\n",
       "      <td>0.0481</td>\n",
       "      <td>0.1291</td>\n",
       "    </tr>\n",
       "    <tr>\n",
       "      <th>2020-06-30</th>\n",
       "      <td>-0.0013</td>\n",
       "      <td>0.0658</td>\n",
       "      <td>1.0224</td>\n",
       "      <td>0.1149</td>\n",
       "      <td>0.1139</td>\n",
       "      <td>0.0506</td>\n",
       "      <td>0.1339</td>\n",
       "    </tr>\n",
       "    <tr>\n",
       "      <th>2020-07-31</th>\n",
       "      <td>-0.0011</td>\n",
       "      <td>0.1164</td>\n",
       "      <td>0.8402</td>\n",
       "      <td>0.1310</td>\n",
       "      <td>0.0460</td>\n",
       "      <td>0.0207</td>\n",
       "      <td>0.1288</td>\n",
       "    </tr>\n",
       "    <tr>\n",
       "      <th>2020-08-31</th>\n",
       "      <td>-0.0006</td>\n",
       "      <td>0.1246</td>\n",
       "      <td>0.4852</td>\n",
       "      <td>0.1268</td>\n",
       "      <td>0.0514</td>\n",
       "      <td>0.0230</td>\n",
       "      <td>0.1236</td>\n",
       "    </tr>\n",
       "    <tr>\n",
       "      <th>2020-09-30</th>\n",
       "      <td>-0.0007</td>\n",
       "      <td>0.1246</td>\n",
       "      <td>0.5684</td>\n",
       "      <td>0.1252</td>\n",
       "      <td>0.0554</td>\n",
       "      <td>0.0211</td>\n",
       "      <td>0.1225</td>\n",
       "    </tr>\n",
       "  </tbody>\n",
       "</table>\n",
       "<p>111 rows × 7 columns</p>\n",
       "</div>"
      ],
      "text/plain": [
       "             const  SPY US Equity  USGG3M Index  EEM US Equity  EFA US Equity  \\\n",
       "date                                                                            \n",
       "2011-07-31     NaN            NaN           NaN            NaN            NaN   \n",
       "2011-08-31     NaN            NaN           NaN            NaN            NaN   \n",
       "2011-09-30     NaN            NaN           NaN            NaN            NaN   \n",
       "2011-10-31     NaN            NaN           NaN            NaN            NaN   \n",
       "2011-11-30     NaN            NaN           NaN            NaN            NaN   \n",
       "...            ...            ...           ...            ...            ...   \n",
       "2020-05-31 -0.0018         0.0765        1.3365         0.1044         0.1194   \n",
       "2020-06-30 -0.0013         0.0658        1.0224         0.1149         0.1139   \n",
       "2020-07-31 -0.0011         0.1164        0.8402         0.1310         0.0460   \n",
       "2020-08-31 -0.0006         0.1246        0.4852         0.1268         0.0514   \n",
       "2020-09-30 -0.0007         0.1246        0.5684         0.1252         0.0554   \n",
       "\n",
       "            EUO US Equity  IWM US Equity  \n",
       "date                                      \n",
       "2011-07-31            NaN            NaN  \n",
       "2011-08-31            NaN            NaN  \n",
       "2011-09-30            NaN            NaN  \n",
       "2011-10-31            NaN            NaN  \n",
       "2011-11-30            NaN            NaN  \n",
       "...                   ...            ...  \n",
       "2020-05-31         0.0481         0.1291  \n",
       "2020-06-30         0.0506         0.1339  \n",
       "2020-07-31         0.0207         0.1288  \n",
       "2020-08-31         0.0230         0.1236  \n",
       "2020-09-30         0.0211         0.1225  \n",
       "\n",
       "[111 rows x 7 columns]"
      ]
     },
     "execution_count": 11,
     "metadata": {},
     "output_type": "execute_result"
    }
   ],
   "source": [
    "# utilizamos la función RollingOLS sobre la misma data utilizada. \n",
    "\n",
    "model = RollingOLS(y,X,window=w)\n",
    "rolling_betas = model.fit().params.copy()\n",
    "rolling_betas"
   ]
  },
  {
   "cell_type": "code",
   "execution_count": null,
   "id": "8d1026d0",
   "metadata": {},
   "outputs": [],
   "source": []
  },
  {
   "cell_type": "code",
   "execution_count": 13,
   "id": "b528439f",
   "metadata": {},
   "outputs": [
    {
     "data": {
      "text/html": [
       "<div>\n",
       "<style scoped>\n",
       "    .dataframe tbody tr th:only-of-type {\n",
       "        vertical-align: middle;\n",
       "    }\n",
       "\n",
       "    .dataframe tbody tr th {\n",
       "        vertical-align: top;\n",
       "    }\n",
       "\n",
       "    .dataframe thead th {\n",
       "        text-align: right;\n",
       "    }\n",
       "</style>\n",
       "<table border=\"1\" class=\"dataframe\">\n",
       "  <thead>\n",
       "    <tr style=\"text-align: right;\">\n",
       "      <th></th>\n",
       "      <th>HFRIFWI Index</th>\n",
       "      <th>Static-IS-Int</th>\n",
       "      <th>Rolling-IS-Int</th>\n",
       "      <th>Rolling-OOS-Int</th>\n",
       "    </tr>\n",
       "    <tr>\n",
       "      <th>date</th>\n",
       "      <th></th>\n",
       "      <th></th>\n",
       "      <th></th>\n",
       "      <th></th>\n",
       "    </tr>\n",
       "  </thead>\n",
       "  <tbody>\n",
       "    <tr>\n",
       "      <th>2011-07-31</th>\n",
       "      <td>0.0023</td>\n",
       "      <td>-0.0082</td>\n",
       "      <td>NaN</td>\n",
       "      <td>NaN</td>\n",
       "    </tr>\n",
       "    <tr>\n",
       "      <th>2011-08-31</th>\n",
       "      <td>-0.0321</td>\n",
       "      <td>-0.0301</td>\n",
       "      <td>NaN</td>\n",
       "      <td>NaN</td>\n",
       "    </tr>\n",
       "    <tr>\n",
       "      <th>2011-09-30</th>\n",
       "      <td>-0.0389</td>\n",
       "      <td>-0.0382</td>\n",
       "      <td>NaN</td>\n",
       "      <td>NaN</td>\n",
       "    </tr>\n",
       "    <tr>\n",
       "      <th>2011-10-31</th>\n",
       "      <td>0.0269</td>\n",
       "      <td>0.0467</td>\n",
       "      <td>NaN</td>\n",
       "      <td>NaN</td>\n",
       "    </tr>\n",
       "    <tr>\n",
       "      <th>2011-11-30</th>\n",
       "      <td>-0.0135</td>\n",
       "      <td>-0.0028</td>\n",
       "      <td>NaN</td>\n",
       "      <td>NaN</td>\n",
       "    </tr>\n",
       "    <tr>\n",
       "      <th>...</th>\n",
       "      <td>...</td>\n",
       "      <td>...</td>\n",
       "      <td>...</td>\n",
       "      <td>...</td>\n",
       "    </tr>\n",
       "    <tr>\n",
       "      <th>2020-05-31</th>\n",
       "      <td>0.0238</td>\n",
       "      <td>0.0183</td>\n",
       "      <td>0.0188</td>\n",
       "      <td>0.0171</td>\n",
       "    </tr>\n",
       "    <tr>\n",
       "      <th>2020-06-30</th>\n",
       "      <td>0.0199</td>\n",
       "      <td>0.0126</td>\n",
       "      <td>0.0149</td>\n",
       "      <td>0.0140</td>\n",
       "    </tr>\n",
       "    <tr>\n",
       "      <th>2020-07-31</th>\n",
       "      <td>0.0297</td>\n",
       "      <td>0.0160</td>\n",
       "      <td>0.0194</td>\n",
       "      <td>0.0137</td>\n",
       "    </tr>\n",
       "    <tr>\n",
       "      <th>2020-08-31</th>\n",
       "      <td>0.0233</td>\n",
       "      <td>0.0197</td>\n",
       "      <td>0.0203</td>\n",
       "      <td>0.0195</td>\n",
       "    </tr>\n",
       "    <tr>\n",
       "      <th>2020-09-30</th>\n",
       "      <td>-0.0124</td>\n",
       "      <td>-0.0095</td>\n",
       "      <td>-0.0109</td>\n",
       "      <td>-0.0107</td>\n",
       "    </tr>\n",
       "  </tbody>\n",
       "</table>\n",
       "<p>111 rows × 4 columns</p>\n",
       "</div>"
      ],
      "text/plain": [
       "            HFRIFWI Index  Static-IS-Int  Rolling-IS-Int  Rolling-OOS-Int\n",
       "date                                                                     \n",
       "2011-07-31         0.0023        -0.0082             NaN              NaN\n",
       "2011-08-31        -0.0321        -0.0301             NaN              NaN\n",
       "2011-09-30        -0.0389        -0.0382             NaN              NaN\n",
       "2011-10-31         0.0269         0.0467             NaN              NaN\n",
       "2011-11-30        -0.0135        -0.0028             NaN              NaN\n",
       "...                   ...            ...             ...              ...\n",
       "2020-05-31         0.0238         0.0183          0.0188           0.0171\n",
       "2020-06-30         0.0199         0.0126          0.0149           0.0140\n",
       "2020-07-31         0.0297         0.0160          0.0194           0.0137\n",
       "2020-08-31         0.0233         0.0197          0.0203           0.0195\n",
       "2020-09-30        -0.0124        -0.0095         -0.0109          -0.0107\n",
       "\n",
       "[111 rows x 4 columns]"
      ]
     },
     "execution_count": 13,
     "metadata": {},
     "output_type": "execute_result"
    }
   ],
   "source": [
    "# Mostrando Resultados \n",
    "\n",
    "# replicación rolling In Sample\n",
    "rep_IS = (rolling_betas * X).sum(axis=1,skipna=False)\n",
    "\n",
    "# Replicación rolling Out of Sample\n",
    "rep_OOS = (rolling_betas.shift() * X).sum(axis=1,skipna=False)\n",
    "replication = df_hedge_rep[['HFRIFWI Index']].copy()\n",
    "\n",
    "# Creamos columunas\n",
    "replication['Static-IS-Int'] = static_model.fittedvalues\n",
    "replication['Rolling-IS-Int'] = rep_IS\n",
    "replication['Rolling-OOS-Int'] = rep_OOS\n",
    "replication"
   ]
  },
  {
   "cell_type": "code",
   "execution_count": 15,
   "id": "db6e3745",
   "metadata": {},
   "outputs": [
    {
     "data": {
      "text/html": [
       "<div>\n",
       "<style scoped>\n",
       "    .dataframe tbody tr th:only-of-type {\n",
       "        vertical-align: middle;\n",
       "    }\n",
       "\n",
       "    .dataframe tbody tr th {\n",
       "        vertical-align: top;\n",
       "    }\n",
       "\n",
       "    .dataframe thead th {\n",
       "        text-align: right;\n",
       "    }\n",
       "</style>\n",
       "<table border=\"1\" class=\"dataframe\">\n",
       "  <thead>\n",
       "    <tr style=\"text-align: right;\">\n",
       "      <th></th>\n",
       "      <th>HFRIFWI Index</th>\n",
       "      <th>Static-IS-Int</th>\n",
       "      <th>Rolling-IS-Int</th>\n",
       "      <th>Rolling-OOS-Int</th>\n",
       "    </tr>\n",
       "  </thead>\n",
       "  <tbody>\n",
       "    <tr>\n",
       "      <th>HFRIFWI Index</th>\n",
       "      <td>1.0000</td>\n",
       "      <td>0.9335</td>\n",
       "      <td>0.9751</td>\n",
       "      <td>0.9314</td>\n",
       "    </tr>\n",
       "    <tr>\n",
       "      <th>Static-IS-Int</th>\n",
       "      <td>0.9335</td>\n",
       "      <td>1.0000</td>\n",
       "      <td>0.9881</td>\n",
       "      <td>0.9922</td>\n",
       "    </tr>\n",
       "    <tr>\n",
       "      <th>Rolling-IS-Int</th>\n",
       "      <td>0.9751</td>\n",
       "      <td>0.9881</td>\n",
       "      <td>1.0000</td>\n",
       "      <td>0.9843</td>\n",
       "    </tr>\n",
       "    <tr>\n",
       "      <th>Rolling-OOS-Int</th>\n",
       "      <td>0.9314</td>\n",
       "      <td>0.9922</td>\n",
       "      <td>0.9843</td>\n",
       "      <td>1.0000</td>\n",
       "    </tr>\n",
       "  </tbody>\n",
       "</table>\n",
       "</div>"
      ],
      "text/plain": [
       "                 HFRIFWI Index  Static-IS-Int  Rolling-IS-Int  Rolling-OOS-Int\n",
       "HFRIFWI Index           1.0000         0.9335          0.9751           0.9314\n",
       "Static-IS-Int           0.9335         1.0000          0.9881           0.9922\n",
       "Rolling-IS-Int          0.9751         0.9881          1.0000           0.9843\n",
       "Rolling-OOS-Int         0.9314         0.9922          0.9843           1.0000"
      ]
     },
     "execution_count": 15,
     "metadata": {},
     "output_type": "execute_result"
    }
   ],
   "source": [
    "# Correlación entre HFRIFWI y las diferentes metodologias de replicas utilizadas. Esto lo podemos utilizar para identificar que\n",
    "# estrategia de estimación mantienen una mejor correlación con el objetivo a replicar HFRIFWI. \n",
    "replication.corr()"
   ]
  },
  {
   "cell_type": "code",
   "execution_count": 16,
   "id": "c4edba97",
   "metadata": {},
   "outputs": [
    {
     "data": {
      "text/plain": [
       "<AxesSubplot:xlabel='date'>"
      ]
     },
     "execution_count": 16,
     "metadata": {},
     "output_type": "execute_result"
    },
    {
     "data": {
      "image/png": "[encoded data removed]",
      "text/plain": [
       "<Figure size 432x288 with 1 Axes>"
      ]
     },
     "metadata": {},
     "output_type": "display_data"
    }
   ],
   "source": [
    "replication[['Rolling-OOS-Int','HFRIFWI Index']].plot()"
   ]
  },
  {
   "cell_type": "markdown",
   "id": "a058d699",
   "metadata": {},
   "source": [
    "8. Nosotros estimamos las replicaciones usando intercepto. Intentemos la estimación del problema 6 pero esta vez sin intercepto.Reporte:\n",
    "a. Los betas de la regresión. ¿Cómo se comparan con las estimaciones de beta con intercepto?\n",
    "b. La media de los valores estimados, 𝑟̌h𝑓𝑟𝑖. ¿Cómo se compara con la media de HFRI?7 𝑡?\n",
    "c. la correlación de los valores estimados 𝑟̌h𝑓𝑟𝑖con HFRI. ¿Cómo esta correlación se compara con los 𝑡 valores estimados con intercepto, 𝑟̂h𝑓𝑟𝑖? 𝑡?\n",
    "¿Cómo piensa usted que Merrill y ProShares estiman sus replicadores, con intercepto o sin intercepto?"
   ]
  }
 ],
 "metadata": {
  "kernelspec": {
   "display_name": "Python 3 (ipykernel)",
   "language": "python",
   "name": "python3"
  },
  "language_info": {
   "codemirror_mode": {
    "name": "ipython",
    "version": 3
   },
   "file_extension": ".py",
   "mimetype": "text/x-python",
   "name": "python",
   "nbconvert_exporter": "python",
   "pygments_lexer": "ipython3",
   "version": "3.9.12"
  }
 },
 "nbformat": 4,
 "nbformat_minor": 5
}
