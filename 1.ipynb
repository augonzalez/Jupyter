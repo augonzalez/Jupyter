{
 "cells": [
  {
   "cell_type": "markdown",
   "id": "ef2892f0",
   "metadata": {},
   "source": [
    "# <center> Econometria Financiera <center>\n",
    "# <center> Tarea 1 <center>\n",
    "<center> The Harvard Management Company and Inflation-indexed Bonds <center>\n",
    "<center> Ketherine Jimenez 1106918 - Aura Gonzalez 1106920 - Eddily Sanchez 1096853<center>"
   ]
  },
  {
   "cell_type": "markdown",
   "id": "9c14c2b5",
   "metadata": {},
   "source": [
    "### Packetes a Importar"
   ]
  },
  {
   "cell_type": "code",
   "execution_count": 130,
   "id": "b850630e",
   "metadata": {},
   "outputs": [],
   "source": [
    "import pandas as pd\n",
    "import numpy as np"
   ]
  },
  {
   "cell_type": "markdown",
   "id": "baac0bd9",
   "metadata": {},
   "source": [
    "### Funciones"
   ]
  },
  {
   "cell_type": "code",
   "execution_count": 131,
   "id": "ea0ff54b",
   "metadata": {},
   "outputs": [],
   "source": [
    "def compute_tangency(df_tilde, diagonalize_Sigma=False):\n",
    "\n",
    "    \"\"\"Compute tangency portfolio given a set of excess returns.\n",
    "\n",
    "\n",
    "\n",
    "    Also, for convenience, this returns the associated vector of average\n",
    "\n",
    "    returns and the variance-covariance matrix.\n",
    "\n",
    "\n",
    "\n",
    "    Parameters\n",
    "\n",
    "    ----------\n",
    "\n",
    "    diagonalize_Sigma: bool\n",
    "\n",
    "        When `True`, set the off diagonal elements of the variance-covariance\n",
    "\n",
    "        matrix to zero.\n",
    "\n",
    "    \"\"\"\n",
    "\n",
    "    Sigma = df_tilde.cov()\n",
    "\n",
    "    # N is the number of assets\n",
    "\n",
    "    N = Sigma.shape[0]\n",
    "    Sigma_adj = Sigma.copy()\n",
    "\n",
    "    if diagonalize_Sigma:\n",
    "\n",
    "        Sigma_adj.loc[:,:] = np.diag(np.diag(Sigma_adj))\n",
    "\n",
    "\n",
    "\n",
    "    mu_tilde = df_tilde.mean()\n",
    "\n",
    "    Sigma_inv = np.linalg.inv(Sigma_adj)\n",
    "\n",
    "    weights = Sigma_inv @ mu_tilde / (np.ones(N) @ Sigma_inv @ mu_tilde)\n",
    "\n",
    "    # For convenience, I'll wrap the solution back into a pandas.Series object.\n",
    "\n",
    "    omega_tangency = pd.Series(weights, index=mu_tilde.index)\n",
    "\n",
    "    return omega_tangency, mu_tilde, Sigma"
   ]
  },
  {
   "cell_type": "code",
   "execution_count": 132,
   "id": "dd14f596",
   "metadata": {},
   "outputs": [],
   "source": [
    "def target_mv_portfolio(df_tilde, target_return=0.06, diagonalize_Sigma=False):\n",
    "\n",
    "    \"\"\"Compute MV optimal portfolio, given target return and set of excess returns.\n",
    "\n",
    "    Parameters\n",
    "\n",
    "    ----------\n",
    "\n",
    "    diagonalize_Sigma: bool\n",
    "\n",
    "        When `True`, set the off diagonal elements of the variance-covariance\n",
    "\n",
    "        matrix to zero.\n",
    "\n",
    "    \"\"\"\n",
    "\n",
    "    omega_tangency, mu_tilde, Sigma = compute_tangency(df_tilde, diagonalize_Sigma=diagonalize_Sigma)\n",
    "\n",
    "    Sigma_adj = Sigma.copy()\n",
    "\n",
    "    if diagonalize_Sigma:\n",
    "\n",
    "        Sigma_adj.loc[:,:] = np.diag(np.diag(Sigma_adj))\n",
    "\n",
    "    Sigma_inv = np.linalg.inv(Sigma_adj)\n",
    "\n",
    "    N = Sigma_adj.shape[0]\n",
    "\n",
    "    delta_tilde = ((np.ones(N) @ Sigma_inv @ mu_tilde)/(mu_tilde @ Sigma_inv @ mu_tilde)) * target_return\n",
    "\n",
    "    omega_star = delta_tilde * omega_tangency\n",
    "\n",
    "    return omega_star"
   ]
  },
  {
   "cell_type": "markdown",
   "id": "7a4ff898",
   "metadata": {},
   "source": [
    "### Cargando Data"
   ]
  },
  {
   "cell_type": "code",
   "execution_count": 133,
   "id": "47dc23da",
   "metadata": {},
   "outputs": [],
   "source": [
    "\n",
    "path=\"/Users/Aura/Desktop/Data/multi_asset_etf_data.xlsx\"\n",
    "df1 = df = pd.read_excel(path, sheet_name=1)\n",
    "df1 = df1.set_index('Date')\n",
    "\n",
    "#df1 corresponde a Total Returns\n"
   ]
  },
  {
   "cell_type": "markdown",
   "id": "2d05e8ff",
   "metadata": {},
   "source": [
    "#### 1. El enfoque de HMC."
   ]
  },
  {
   "cell_type": "markdown",
   "id": "7847969b",
   "metadata": {},
   "source": [
    "El planteamiento de HMC sobre el problema de conformación de portafolio."
   ]
  },
  {
   "cell_type": "markdown",
   "id": "4b034790",
   "metadata": {},
   "source": [
    "#### a) ¿Por qué HMC se enfoca en retornos reales cuando analiza la distribución de su portafolio? ¿Esto es solo tema de escala/unidades, o el utilizar retornos reales vs retornos nominales potencialmente cambia la solución al problema MV?\n"
   ]
  },
  {
   "cell_type": "markdown",
   "id": "9a83f76f",
   "metadata": {},
   "source": [
    "HMC se utiliza para  analizar los retornos esperados, las varianzas y covarianza de los retornos reales en los mercados de capitales, el mismo se basa en datos historicos. Esto no es identico a la optimizacion MV usando retornos nominales. Cambiar de retorno nominal a real simplemente reescala de manera distinta el promedio de exceso de retornos, pero puede realizar cambios en la matriz de covarianza los cuales pueden ser no triviales. Esto resultaría en ponderaciones diferentes sobre los activos.\n",
    "\n",
    "El analisis-varinza podria verse afectado por la eleccion de utilizar retornos nominales en lugar de retornos reales, ya que estados dos variables no ofrecen la misma informacion (una calcula la rentabilidad real percibida tras la deduccion fiscal y el ajuste por inflacion y la otra solo tiene en cuenta las ganancias percibidas). Ademas HMC, basa constantemente sus estrategias en el retorno real."
   ]
  },
  {
   "cell_type": "markdown",
   "id": "c5b11443",
   "metadata": {},
   "source": [
    "#### b) Hay miles de activos riesgosos en los que HMC puede invertir. Explique por qué la optimización usando 1000 instrumentos financieros no es tan factible.\n"
   ]
  },
  {
   "cell_type": "markdown",
   "id": "bcfe53e2",
   "metadata": {},
   "source": [
    "Mientras mas grande es el conjutno de instrumentos financieros la correlacion entre los activos puede verse afectada de amnera negativa y los elemntos de la matriz de covarianca pueden tener insuficiente precision.\n"
   ]
  },
  {
   "cell_type": "markdown",
   "id": "9cef880f",
   "metadata": {},
   "source": [
    "#### c) En vez de optimizar a través de todos los instrumentos directamente, HMC realiza una optimización en dos etapas. Primero, ellos construyen portafolios por tipo activos, cada uno optimizado sobre instrumentos de la clase especifica de activos. Segundo, HMC combina los portafolios por tipo de activos en un solo portafolio optimizado.\n",
    "\n",
    "Para que la optimización en dos etapas sea una buena aproximación a la optimización tradicional sobre todos los tipos de activos, ¿que debe ser cierto sobre la partición de los activos dentro del tipo de clase?\n"
   ]
  },
  {
   "cell_type": "markdown",
   "id": "035f8579",
   "metadata": {},
   "source": [
    "En la particion los activos deben tener una correlacion baja o ninguna entre las clases para que la optimizacion en dos etapas sea una buena aproximacion a la optimizacion tradicional sobre los tipos de activos."
   ]
  },
  {
   "cell_type": "markdown",
   "id": "d516acfa",
   "metadata": {},
   "source": [
    "#### d) Deberían los TIPS formar una nueva clase de activos financieros o ser agrupado dentro de una de las otras 11 clases.\n"
   ]
  },
  {
   "cell_type": "markdown",
   "id": "bebd25dd",
   "metadata": {},
   "source": [
    "Este al ser un tipo de activo indexado a la inflaccion, puede ajustarse segun la misma, de esta manera estan protegidos contra la inflaccion, los mismos ofrecen un rendimiento mas bajo en comparacion con otras inversiones similares, seria recomendable clasificarse en una nueva clase de activos. Se podrian incluir dentro de la clase de Inflation-Indexed donde ya esta Salomon o en la de Domestic Bonds ya ue es un US Bond."
   ]
  },
  {
   "cell_type": "markdown",
   "id": "a348b74a",
   "metadata": {},
   "source": [
    "#### e) ¿Cómo podríamos ajustar el problema de optimización de portafolio mostrado en la primera clase para reflejar las restricciones adicionales que Harvard está usando en sus soluciones acotadas en el Exhibit 5 y 6? Solo considere como reescribir la optimización: no trate de resolver el problema utilizando la restricción extra."
   ]
  },
  {
   "cell_type": "markdown",
   "id": "72472274",
   "metadata": {},
   "source": [
    "Ajustando la volatividad, la cantidad de activos y la covarianza entre los retornos de los activos con las restricciones de Harvard (0-10%)"
   ]
  },
  {
   "cell_type": "markdown",
   "id": "393ff7f9",
   "metadata": {},
   "source": [
    "### 2. Optimización Mean Varianza."
   ]
  },
  {
   "cell_type": "markdown",
   "id": "34b5f39c",
   "metadata": {},
   "source": [
    "•La data de los exhibit se les compartirá, pero no necesita usarla.\n",
    "\n",
    "• Para nuestro análisis utilizaremos la data en el archivo multi_asset_etf_data.xlsx. \n",
    "\n",
    "• La serie de tiempo está compuesta por retornos mensuales de 11 tipos de activos financieros y un fondo de corto plazo de notas del tesoro de EE. UU., (“SHV”) el cual consideramos la tasa libre de riesgo. \n",
    "\n",
    "• La data provista está en retornos totales, así como también en exceso de retornos, (donde SHV ha sido sustraído de las otras columnas)\n",
    "\n",
    "• Estos rendimientos son nominales, es decir, no están ajustados por inflación, y en nuestros cálculos no estaremos haciendo ajustes por inflación."
   ]
  },
  {
   "cell_type": "markdown",
   "id": "aa2c3fef",
   "metadata": {},
   "source": [
    "En las preguntas debajo, anualice las estadísticas que piensa reportar:\n",
    "\n",
    "Procedimiento:\n"
   ]
  },
  {
   "cell_type": "markdown",
   "id": "4250e116",
   "metadata": {},
   "source": [
    "Anualizacion de la media de los retornos mensuales multiplicando por 12:"
   ]
  },
  {
   "cell_type": "code",
   "execution_count": 134,
   "id": "1e9fd56c",
   "metadata": {},
   "outputs": [],
   "source": [
    "#Media del total de los retornos mensuales (Anualizado)\n",
    "# Asumismos que la tasa libre de riesgo es 0.01/12 en los meses donde no hay data en Cash \n",
    "\n",
    "df1['rf'] = df1['SHV'].fillna(0.01/12)\n",
    "\n",
    "rf_mean_annualized = df1['rf'].mean() * 12\n",
    "\n",
    "force = df1.drop(columns = ['SHV'])\n",
    "\n",
    "risky_assets = force.columns[0:11]\n",
    "\n",
    "risky_assets = risky_assets\n",
    "\n",
    "df1_tilde = df1.loc[:, risky_assets]\n",
    "\n",
    "df1_tilde = df1_tilde.subtract(df1['rf'], axis=0)\n",
    "\n"
   ]
  },
  {
   "cell_type": "markdown",
   "id": "09adb5fb",
   "metadata": {},
   "source": [
    "Anualizacion de la volatibilidad de los retornos mensuales multiplicado por raiz de 12."
   ]
  },
  {
   "cell_type": "markdown",
   "id": "706db9f3",
   "metadata": {},
   "source": [
    "El Sharpe Ratio es el promedio del exceso de retornos dividido por la volatilidad de los excesos de retorno.\n",
    "\n",
    "donde 𝑅a es el retorno del activo fin𝑎𝑎anciero, 𝑅𝑏 es la tasa libre de riesgo. $𝐸[𝑅𝑎 − 𝑅𝑏]$ es el valor esperado del exceso de retorno del activo financiero sobre la tasa de referencia (en este caso la tasa libre de riesgo), y 𝜎 es la desviación estándar de los excesos de retorno del activo."
   ]
  },
  {
   "cell_type": "markdown",
   "id": "c21b1b76",
   "metadata": {},
   "source": [
    "### 1. Resumen Estadístico"
   ]
  },
  {
   "cell_type": "markdown",
   "id": "04416d2f",
   "metadata": {},
   "source": [
    "#### a.\tCalcule y muestre la media y la volatilidad de cada uno del exceso de retorno de cada activo. (Recuerde que utilizamos volatilidad para referirnos a la desviación estándar de los retornos)."
   ]
  },
  {
   "cell_type": "code",
   "execution_count": 135,
   "id": "ab333add",
   "metadata": {},
   "outputs": [
    {
     "data": {
      "text/html": [
       "<div>\n",
       "<style scoped>\n",
       "    .dataframe tbody tr th:only-of-type {\n",
       "        vertical-align: middle;\n",
       "    }\n",
       "\n",
       "    .dataframe tbody tr th {\n",
       "        vertical-align: top;\n",
       "    }\n",
       "\n",
       "    .dataframe thead th {\n",
       "        text-align: right;\n",
       "    }\n",
       "</style>\n",
       "<table border=\"1\" class=\"dataframe\">\n",
       "  <thead>\n",
       "    <tr style=\"text-align: right;\">\n",
       "      <th></th>\n",
       "      <th>Mean</th>\n",
       "      <th>Vol</th>\n",
       "      <th>Sharpe</th>\n",
       "    </tr>\n",
       "  </thead>\n",
       "  <tbody>\n",
       "    <tr>\n",
       "      <th>BWX</th>\n",
       "      <td>0.020819</td>\n",
       "      <td>0.074304</td>\n",
       "      <td>0.280189</td>\n",
       "    </tr>\n",
       "    <tr>\n",
       "      <th>DBC</th>\n",
       "      <td>0.010053</td>\n",
       "      <td>0.177327</td>\n",
       "      <td>0.056689</td>\n",
       "    </tr>\n",
       "    <tr>\n",
       "      <th>EEM</th>\n",
       "      <td>0.093103</td>\n",
       "      <td>0.196190</td>\n",
       "      <td>0.474556</td>\n",
       "    </tr>\n",
       "    <tr>\n",
       "      <th>EFA</th>\n",
       "      <td>0.099239</td>\n",
       "      <td>0.161319</td>\n",
       "      <td>0.615174</td>\n",
       "    </tr>\n",
       "    <tr>\n",
       "      <th>HYG</th>\n",
       "      <td>0.081193</td>\n",
       "      <td>0.085989</td>\n",
       "      <td>0.944231</td>\n",
       "    </tr>\n",
       "    <tr>\n",
       "      <th>IEF</th>\n",
       "      <td>0.033424</td>\n",
       "      <td>0.056895</td>\n",
       "      <td>0.587473</td>\n",
       "    </tr>\n",
       "    <tr>\n",
       "      <th>IYR</th>\n",
       "      <td>0.164311</td>\n",
       "      <td>0.180085</td>\n",
       "      <td>0.912408</td>\n",
       "    </tr>\n",
       "    <tr>\n",
       "      <th>PSP</th>\n",
       "      <td>0.170243</td>\n",
       "      <td>0.213412</td>\n",
       "      <td>0.797721</td>\n",
       "    </tr>\n",
       "    <tr>\n",
       "      <th>QAI</th>\n",
       "      <td>0.027795</td>\n",
       "      <td>0.047800</td>\n",
       "      <td>0.581490</td>\n",
       "    </tr>\n",
       "    <tr>\n",
       "      <th>SPY</th>\n",
       "      <td>0.164907</td>\n",
       "      <td>0.139166</td>\n",
       "      <td>1.184963</td>\n",
       "    </tr>\n",
       "    <tr>\n",
       "      <th>TIP</th>\n",
       "      <td>0.037242</td>\n",
       "      <td>0.045151</td>\n",
       "      <td>0.824835</td>\n",
       "    </tr>\n",
       "  </tbody>\n",
       "</table>\n",
       "</div>"
      ],
      "text/plain": [
       "         Mean       Vol    Sharpe\n",
       "BWX  0.020819  0.074304  0.280189\n",
       "DBC  0.010053  0.177327  0.056689\n",
       "EEM  0.093103  0.196190  0.474556\n",
       "EFA  0.099239  0.161319  0.615174\n",
       "HYG  0.081193  0.085989  0.944231\n",
       "IEF  0.033424  0.056895  0.587473\n",
       "IYR  0.164311  0.180085  0.912408\n",
       "PSP  0.170243  0.213412  0.797721\n",
       "QAI  0.027795  0.047800  0.581490\n",
       "SPY  0.164907  0.139166  1.184963\n",
       "TIP  0.037242  0.045151  0.824835"
      ]
     },
     "execution_count": 135,
     "metadata": {},
     "output_type": "execute_result"
    }
   ],
   "source": [
    "df1_tilde_annual = 12 * df1_tilde\n",
    "\n",
    "mu_tilde = df1_tilde_annual.mean()\n",
    "\n",
    "sigma = df1_tilde_annual.std()/np.sqrt(12)\n",
    "\n",
    "table1 = pd.DataFrame({'Mean':mu_tilde, 'Vol':sigma, 'Sharpe':mu_tilde/sigma})\n",
    "\n",
    "table1\n"
   ]
  },
  {
   "cell_type": "markdown",
   "id": "3444a85c",
   "metadata": {},
   "source": [
    "#### b. ¿Cuáles activos tienen el mejor o el peor Sharpe Ratio?"
   ]
  },
  {
   "cell_type": "markdown",
   "id": "66b88835",
   "metadata": {},
   "source": [
    "Se suele considerar que un buen Sharpe ratio está se muestra por encima de 1, porque ofrece más rentabilidad por unidad de volatilidad, entre nuestros activos el mejor Sharpe ratio lo tiene SPY con un valor correspondiente a 1.184963, y el peor lo tiene DBC con 0.056689."
   ]
  },
  {
   "cell_type": "markdown",
   "id": "8ed1fb85",
   "metadata": {},
   "source": [
    "### 2. Análisis Descriptivo."
   ]
  },
  {
   "cell_type": "markdown",
   "id": "8940f135",
   "metadata": {},
   "source": [
    "#### a. Calcule la matriz de correlación de los excesos de retornos. ¿Qué par de activos tiene la correlación más alta? ¿La más baja?\n"
   ]
  },
  {
   "cell_type": "code",
   "execution_count": 137,
   "id": "d71a4700",
   "metadata": {},
   "outputs": [
    {
     "data": {
      "text/html": [
       "<style type=\"text/css\">\n",
       "#T_0e6a8_row0_col0, #T_0e6a8_row1_col1, #T_0e6a8_row2_col2, #T_0e6a8_row3_col3, #T_0e6a8_row4_col4, #T_0e6a8_row5_col5, #T_0e6a8_row6_col6, #T_0e6a8_row7_col7, #T_0e6a8_row8_col8, #T_0e6a8_row9_col9, #T_0e6a8_row10_col10 {\n",
       "  background-color: #b40426;\n",
       "  color: #f1f1f1;\n",
       "}\n",
       "#T_0e6a8_row0_col1 {\n",
       "  background-color: #f1cdba;\n",
       "  color: #000000;\n",
       "}\n",
       "#T_0e6a8_row0_col2, #T_0e6a8_row1_col9 {\n",
       "  background-color: #f7ac8e;\n",
       "  color: #000000;\n",
       "}\n",
       "#T_0e6a8_row0_col3 {\n",
       "  background-color: #f7b599;\n",
       "  color: #000000;\n",
       "}\n",
       "#T_0e6a8_row0_col4 {\n",
       "  background-color: #efcfbf;\n",
       "  color: #000000;\n",
       "}\n",
       "#T_0e6a8_row0_col5 {\n",
       "  background-color: #d3dbe7;\n",
       "  color: #000000;\n",
       "}\n",
       "#T_0e6a8_row0_col6 {\n",
       "  background-color: #ccd9ed;\n",
       "  color: #000000;\n",
       "}\n",
       "#T_0e6a8_row0_col7 {\n",
       "  background-color: #f3c8b2;\n",
       "  color: #000000;\n",
       "}\n",
       "#T_0e6a8_row0_col8 {\n",
       "  background-color: #f7b99e;\n",
       "  color: #000000;\n",
       "}\n",
       "#T_0e6a8_row0_col9 {\n",
       "  background-color: #ebd3c6;\n",
       "  color: #000000;\n",
       "}\n",
       "#T_0e6a8_row0_col10 {\n",
       "  background-color: #d5dbe5;\n",
       "  color: #000000;\n",
       "}\n",
       "#T_0e6a8_row1_col0 {\n",
       "  background-color: #92b4fe;\n",
       "  color: #000000;\n",
       "}\n",
       "#T_0e6a8_row1_col2 {\n",
       "  background-color: #f7a98b;\n",
       "  color: #000000;\n",
       "}\n",
       "#T_0e6a8_row1_col3, #T_0e6a8_row3_col1, #T_0e6a8_row9_col6 {\n",
       "  background-color: #f59f80;\n",
       "  color: #000000;\n",
       "}\n",
       "#T_0e6a8_row1_col4 {\n",
       "  background-color: #f4c6af;\n",
       "  color: #000000;\n",
       "}\n",
       "#T_0e6a8_row1_col5, #T_0e6a8_row3_col5 {\n",
       "  background-color: #4358cb;\n",
       "  color: #f1f1f1;\n",
       "}\n",
       "#T_0e6a8_row1_col6, #T_0e6a8_row10_col1 {\n",
       "  background-color: #b7cff9;\n",
       "  color: #000000;\n",
       "}\n",
       "#T_0e6a8_row1_col7 {\n",
       "  background-color: #f7ad90;\n",
       "  color: #000000;\n",
       "}\n",
       "#T_0e6a8_row1_col8 {\n",
       "  background-color: #f7b79b;\n",
       "  color: #000000;\n",
       "}\n",
       "#T_0e6a8_row1_col10, #T_0e6a8_row7_col10 {\n",
       "  background-color: #455cce;\n",
       "  color: #f1f1f1;\n",
       "}\n",
       "#T_0e6a8_row2_col0 {\n",
       "  background-color: #d9dce1;\n",
       "  color: #000000;\n",
       "}\n",
       "#T_0e6a8_row2_col1, #T_0e6a8_row8_col1 {\n",
       "  background-color: #f6a385;\n",
       "  color: #000000;\n",
       "}\n",
       "#T_0e6a8_row2_col3 {\n",
       "  background-color: #d85646;\n",
       "  color: #f1f1f1;\n",
       "}\n",
       "#T_0e6a8_row2_col4, #T_0e6a8_row8_col4, #T_0e6a8_row9_col4 {\n",
       "  background-color: #ee8669;\n",
       "  color: #f1f1f1;\n",
       "}\n",
       "#T_0e6a8_row2_col5 {\n",
       "  background-color: #516ddb;\n",
       "  color: #f1f1f1;\n",
       "}\n",
       "#T_0e6a8_row2_col6 {\n",
       "  background-color: #f6bfa6;\n",
       "  color: #000000;\n",
       "}\n",
       "#T_0e6a8_row2_col7 {\n",
       "  background-color: #e16751;\n",
       "  color: #f1f1f1;\n",
       "}\n",
       "#T_0e6a8_row2_col8 {\n",
       "  background-color: #e7745b;\n",
       "  color: #f1f1f1;\n",
       "}\n",
       "#T_0e6a8_row2_col9 {\n",
       "  background-color: #e8765c;\n",
       "  color: #f1f1f1;\n",
       "}\n",
       "#T_0e6a8_row2_col10 {\n",
       "  background-color: #6384eb;\n",
       "  color: #f1f1f1;\n",
       "}\n",
       "#T_0e6a8_row3_col0 {\n",
       "  background-color: #c5d6f2;\n",
       "  color: #000000;\n",
       "}\n",
       "#T_0e6a8_row3_col2 {\n",
       "  background-color: #d95847;\n",
       "  color: #f1f1f1;\n",
       "}\n",
       "#T_0e6a8_row3_col4, #T_0e6a8_row6_col9 {\n",
       "  background-color: #ee8468;\n",
       "  color: #f1f1f1;\n",
       "}\n",
       "#T_0e6a8_row3_col6 {\n",
       "  background-color: #f7b093;\n",
       "  color: #000000;\n",
       "}\n",
       "#T_0e6a8_row3_col7 {\n",
       "  background-color: #cb3e38;\n",
       "  color: #f1f1f1;\n",
       "}\n",
       "#T_0e6a8_row3_col8, #T_0e6a8_row7_col4, #T_0e6a8_row8_col2 {\n",
       "  background-color: #e36b54;\n",
       "  color: #f1f1f1;\n",
       "}\n",
       "#T_0e6a8_row3_col9 {\n",
       "  background-color: #d24b40;\n",
       "  color: #f1f1f1;\n",
       "}\n",
       "#T_0e6a8_row3_col10 {\n",
       "  background-color: #465ecf;\n",
       "  color: #f1f1f1;\n",
       "}\n",
       "#T_0e6a8_row4_col0 {\n",
       "  background-color: #a5c3fe;\n",
       "  color: #000000;\n",
       "}\n",
       "#T_0e6a8_row4_col1, #T_0e6a8_row6_col8 {\n",
       "  background-color: #f7ba9f;\n",
       "  color: #000000;\n",
       "}\n",
       "#T_0e6a8_row4_col2 {\n",
       "  background-color: #ec8165;\n",
       "  color: #f1f1f1;\n",
       "}\n",
       "#T_0e6a8_row4_col3 {\n",
       "  background-color: #ea7b60;\n",
       "  color: #f1f1f1;\n",
       "}\n",
       "#T_0e6a8_row4_col5 {\n",
       "  background-color: #6282ea;\n",
       "  color: #f1f1f1;\n",
       "}\n",
       "#T_0e6a8_row4_col6 {\n",
       "  background-color: #f18f71;\n",
       "  color: #f1f1f1;\n",
       "}\n",
       "#T_0e6a8_row4_col7, #T_0e6a8_row8_col9 {\n",
       "  background-color: #de614d;\n",
       "  color: #f1f1f1;\n",
       "}\n",
       "#T_0e6a8_row4_col8 {\n",
       "  background-color: #f18d6f;\n",
       "  color: #f1f1f1;\n",
       "}\n",
       "#T_0e6a8_row4_col9 {\n",
       "  background-color: #e97a5f;\n",
       "  color: #f1f1f1;\n",
       "}\n",
       "#T_0e6a8_row4_col10 {\n",
       "  background-color: #5e7de7;\n",
       "  color: #f1f1f1;\n",
       "}\n",
       "#T_0e6a8_row5_col0, #T_0e6a8_row5_col1, #T_0e6a8_row5_col2, #T_0e6a8_row5_col3, #T_0e6a8_row5_col4, #T_0e6a8_row5_col6, #T_0e6a8_row5_col7, #T_0e6a8_row5_col8, #T_0e6a8_row5_col9, #T_0e6a8_row9_col5, #T_0e6a8_row9_col10 {\n",
       "  background-color: #3b4cc0;\n",
       "  color: #f1f1f1;\n",
       "}\n",
       "#T_0e6a8_row5_col10 {\n",
       "  background-color: #f2c9b4;\n",
       "  color: #000000;\n",
       "}\n",
       "#T_0e6a8_row6_col0 {\n",
       "  background-color: #80a3fa;\n",
       "  color: #f1f1f1;\n",
       "}\n",
       "#T_0e6a8_row6_col1 {\n",
       "  background-color: #dfdbd9;\n",
       "  color: #000000;\n",
       "}\n",
       "#T_0e6a8_row6_col2 {\n",
       "  background-color: #f7aa8c;\n",
       "  color: #000000;\n",
       "}\n",
       "#T_0e6a8_row6_col3 {\n",
       "  background-color: #f39577;\n",
       "  color: #000000;\n",
       "}\n",
       "#T_0e6a8_row6_col4 {\n",
       "  background-color: #ed8366;\n",
       "  color: #f1f1f1;\n",
       "}\n",
       "#T_0e6a8_row6_col5 {\n",
       "  background-color: #89acfd;\n",
       "  color: #000000;\n",
       "}\n",
       "#T_0e6a8_row6_col7 {\n",
       "  background-color: #ec7f63;\n",
       "  color: #f1f1f1;\n",
       "}\n",
       "#T_0e6a8_row6_col10 {\n",
       "  background-color: #7b9ff9;\n",
       "  color: #f1f1f1;\n",
       "}\n",
       "#T_0e6a8_row7_col0 {\n",
       "  background-color: #9abbff;\n",
       "  color: #000000;\n",
       "}\n",
       "#T_0e6a8_row7_col1, #T_0e6a8_row9_col1 {\n",
       "  background-color: #f7af91;\n",
       "  color: #000000;\n",
       "}\n",
       "#T_0e6a8_row7_col2 {\n",
       "  background-color: #e36c55;\n",
       "  color: #f1f1f1;\n",
       "}\n",
       "#T_0e6a8_row7_col3 {\n",
       "  background-color: #cc403a;\n",
       "  color: #f1f1f1;\n",
       "}\n",
       "#T_0e6a8_row7_col5 {\n",
       "  background-color: #3d50c3;\n",
       "  color: #f1f1f1;\n",
       "}\n",
       "#T_0e6a8_row7_col6, #T_0e6a8_row10_col5 {\n",
       "  background-color: #f4987a;\n",
       "  color: #000000;\n",
       "}\n",
       "#T_0e6a8_row7_col8 {\n",
       "  background-color: #e67259;\n",
       "  color: #f1f1f1;\n",
       "}\n",
       "#T_0e6a8_row7_col9, #T_0e6a8_row9_col7 {\n",
       "  background-color: #cf453c;\n",
       "  color: #f1f1f1;\n",
       "}\n",
       "#T_0e6a8_row8_col0 {\n",
       "  background-color: #d8dce2;\n",
       "  color: #000000;\n",
       "}\n",
       "#T_0e6a8_row8_col3 {\n",
       "  background-color: #dd5f4b;\n",
       "  color: #f1f1f1;\n",
       "}\n",
       "#T_0e6a8_row8_col5, #T_0e6a8_row9_col0 {\n",
       "  background-color: #7597f6;\n",
       "  color: #f1f1f1;\n",
       "}\n",
       "#T_0e6a8_row8_col6 {\n",
       "  background-color: #f5c2aa;\n",
       "  color: #000000;\n",
       "}\n",
       "#T_0e6a8_row8_col7 {\n",
       "  background-color: #e0654f;\n",
       "  color: #f1f1f1;\n",
       "}\n",
       "#T_0e6a8_row8_col10 {\n",
       "  background-color: #90b2fe;\n",
       "  color: #000000;\n",
       "}\n",
       "#T_0e6a8_row9_col2 {\n",
       "  background-color: #eb7d62;\n",
       "  color: #f1f1f1;\n",
       "}\n",
       "#T_0e6a8_row9_col3 {\n",
       "  background-color: #d44e41;\n",
       "  color: #f1f1f1;\n",
       "}\n",
       "#T_0e6a8_row9_col8 {\n",
       "  background-color: #e46e56;\n",
       "  color: #f1f1f1;\n",
       "}\n",
       "#T_0e6a8_row10_col0 {\n",
       "  background-color: #bad0f8;\n",
       "  color: #000000;\n",
       "}\n",
       "#T_0e6a8_row10_col2 {\n",
       "  background-color: #c1d4f4;\n",
       "  color: #000000;\n",
       "}\n",
       "#T_0e6a8_row10_col3 {\n",
       "  background-color: #b9d0f9;\n",
       "  color: #000000;\n",
       "}\n",
       "#T_0e6a8_row10_col4 {\n",
       "  background-color: #b3cdfb;\n",
       "  color: #000000;\n",
       "}\n",
       "#T_0e6a8_row10_col6 {\n",
       "  background-color: #abc8fd;\n",
       "  color: #000000;\n",
       "}\n",
       "#T_0e6a8_row10_col7 {\n",
       "  background-color: #bbd1f8;\n",
       "  color: #000000;\n",
       "}\n",
       "#T_0e6a8_row10_col8 {\n",
       "  background-color: #c9d7f0;\n",
       "  color: #000000;\n",
       "}\n",
       "#T_0e6a8_row10_col9 {\n",
       "  background-color: #b6cefa;\n",
       "  color: #000000;\n",
       "}\n",
       "</style>\n",
       "<table id=\"T_0e6a8\">\n",
       "  <thead>\n",
       "    <tr>\n",
       "      <th class=\"blank level0\" >&nbsp;</th>\n",
       "      <th id=\"T_0e6a8_level0_col0\" class=\"col_heading level0 col0\" >BWX</th>\n",
       "      <th id=\"T_0e6a8_level0_col1\" class=\"col_heading level0 col1\" >DBC</th>\n",
       "      <th id=\"T_0e6a8_level0_col2\" class=\"col_heading level0 col2\" >EEM</th>\n",
       "      <th id=\"T_0e6a8_level0_col3\" class=\"col_heading level0 col3\" >EFA</th>\n",
       "      <th id=\"T_0e6a8_level0_col4\" class=\"col_heading level0 col4\" >HYG</th>\n",
       "      <th id=\"T_0e6a8_level0_col5\" class=\"col_heading level0 col5\" >IEF</th>\n",
       "      <th id=\"T_0e6a8_level0_col6\" class=\"col_heading level0 col6\" >IYR</th>\n",
       "      <th id=\"T_0e6a8_level0_col7\" class=\"col_heading level0 col7\" >PSP</th>\n",
       "      <th id=\"T_0e6a8_level0_col8\" class=\"col_heading level0 col8\" >QAI</th>\n",
       "      <th id=\"T_0e6a8_level0_col9\" class=\"col_heading level0 col9\" >SPY</th>\n",
       "      <th id=\"T_0e6a8_level0_col10\" class=\"col_heading level0 col10\" >TIP</th>\n",
       "    </tr>\n",
       "  </thead>\n",
       "  <tbody>\n",
       "    <tr>\n",
       "      <th id=\"T_0e6a8_level0_row0\" class=\"row_heading level0 row0\" >BWX</th>\n",
       "      <td id=\"T_0e6a8_row0_col0\" class=\"data row0 col0\" >1.000000</td>\n",
       "      <td id=\"T_0e6a8_row0_col1\" class=\"data row0 col1\" >0.437619</td>\n",
       "      <td id=\"T_0e6a8_row0_col2\" class=\"data row0 col2\" >0.608377</td>\n",
       "      <td id=\"T_0e6a8_row0_col3\" class=\"data row0 col3\" >0.552190</td>\n",
       "      <td id=\"T_0e6a8_row0_col4\" class=\"data row0 col4\" >0.479980</td>\n",
       "      <td id=\"T_0e6a8_row0_col5\" class=\"data row0 col5\" >0.235399</td>\n",
       "      <td id=\"T_0e6a8_row0_col6\" class=\"data row0 col6\" >0.397112</td>\n",
       "      <td id=\"T_0e6a8_row0_col7\" class=\"data row0 col7\" >0.456009</td>\n",
       "      <td id=\"T_0e6a8_row0_col8\" class=\"data row0 col8\" >0.605444</td>\n",
       "      <td id=\"T_0e6a8_row0_col9\" class=\"data row0 col9\" >0.373806</td>\n",
       "      <td id=\"T_0e6a8_row0_col10\" class=\"data row0 col10\" >0.526797</td>\n",
       "    </tr>\n",
       "    <tr>\n",
       "      <th id=\"T_0e6a8_level0_row1\" class=\"row_heading level0 row1\" >DBC</th>\n",
       "      <td id=\"T_0e6a8_row1_col0\" class=\"data row1 col0\" >0.437619</td>\n",
       "      <td id=\"T_0e6a8_row1_col1\" class=\"data row1 col1\" >1.000000</td>\n",
       "      <td id=\"T_0e6a8_row1_col2\" class=\"data row1 col2\" >0.619991</td>\n",
       "      <td id=\"T_0e6a8_row1_col3\" class=\"data row1 col3\" >0.634630</td>\n",
       "      <td id=\"T_0e6a8_row1_col4\" class=\"data row1 col4\" >0.530205</td>\n",
       "      <td id=\"T_0e6a8_row1_col5\" class=\"data row1 col5\" >-0.379698</td>\n",
       "      <td id=\"T_0e6a8_row1_col6\" class=\"data row1 col6\" >0.321818</td>\n",
       "      <td id=\"T_0e6a8_row1_col7\" class=\"data row1 col7\" >0.575219</td>\n",
       "      <td id=\"T_0e6a8_row1_col8\" class=\"data row1 col8\" >0.617904</td>\n",
       "      <td id=\"T_0e6a8_row1_col9\" class=\"data row1 col9\" >0.574377</td>\n",
       "      <td id=\"T_0e6a8_row1_col10\" class=\"data row1 col10\" >0.137627</td>\n",
       "    </tr>\n",
       "    <tr>\n",
       "      <th id=\"T_0e6a8_level0_row2\" class=\"row_heading level0 row2\" >EEM</th>\n",
       "      <td id=\"T_0e6a8_row2_col0\" class=\"data row2 col0\" >0.608377</td>\n",
       "      <td id=\"T_0e6a8_row2_col1\" class=\"data row2 col1\" >0.619991</td>\n",
       "      <td id=\"T_0e6a8_row2_col2\" class=\"data row2 col2\" >1.000000</td>\n",
       "      <td id=\"T_0e6a8_row2_col3\" class=\"data row2 col3\" >0.854021</td>\n",
       "      <td id=\"T_0e6a8_row2_col4\" class=\"data row2 col4\" >0.748341</td>\n",
       "      <td id=\"T_0e6a8_row2_col5\" class=\"data row2 col5\" >-0.311420</td>\n",
       "      <td id=\"T_0e6a8_row2_col6\" class=\"data row2 col6\" >0.614140</td>\n",
       "      <td id=\"T_0e6a8_row2_col7\" class=\"data row2 col7\" >0.804353</td>\n",
       "      <td id=\"T_0e6a8_row2_col8\" class=\"data row2 col8\" >0.805874</td>\n",
       "      <td id=\"T_0e6a8_row2_col9\" class=\"data row2 col9\" >0.757758</td>\n",
       "      <td id=\"T_0e6a8_row2_col10\" class=\"data row2 col10\" >0.221171</td>\n",
       "    </tr>\n",
       "    <tr>\n",
       "      <th id=\"T_0e6a8_level0_row3\" class=\"row_heading level0 row3\" >EFA</th>\n",
       "      <td id=\"T_0e6a8_row3_col0\" class=\"data row3 col0\" >0.552190</td>\n",
       "      <td id=\"T_0e6a8_row3_col1\" class=\"data row3 col1\" >0.634630</td>\n",
       "      <td id=\"T_0e6a8_row3_col2\" class=\"data row3 col2\" >0.854021</td>\n",
       "      <td id=\"T_0e6a8_row3_col3\" class=\"data row3 col3\" >1.000000</td>\n",
       "      <td id=\"T_0e6a8_row3_col4\" class=\"data row3 col4\" >0.750992</td>\n",
       "      <td id=\"T_0e6a8_row3_col5\" class=\"data row3 col5\" >-0.378969</td>\n",
       "      <td id=\"T_0e6a8_row3_col6\" class=\"data row3 col6\" >0.666056</td>\n",
       "      <td id=\"T_0e6a8_row3_col7\" class=\"data row3 col7\" >0.908241</td>\n",
       "      <td id=\"T_0e6a8_row3_col8\" class=\"data row3 col8\" >0.830229</td>\n",
       "      <td id=\"T_0e6a8_row3_col9\" class=\"data row3 col9\" >0.873131</td>\n",
       "      <td id=\"T_0e6a8_row3_col10\" class=\"data row3 col10\" >0.138746</td>\n",
       "    </tr>\n",
       "    <tr>\n",
       "      <th id=\"T_0e6a8_level0_row4\" class=\"row_heading level0 row4\" >HYG</th>\n",
       "      <td id=\"T_0e6a8_row4_col0\" class=\"data row4 col0\" >0.479980</td>\n",
       "      <td id=\"T_0e6a8_row4_col1\" class=\"data row4 col1\" >0.530205</td>\n",
       "      <td id=\"T_0e6a8_row4_col2\" class=\"data row4 col2\" >0.748341</td>\n",
       "      <td id=\"T_0e6a8_row4_col3\" class=\"data row4 col3\" >0.750992</td>\n",
       "      <td id=\"T_0e6a8_row4_col4\" class=\"data row4 col4\" >1.000000</td>\n",
       "      <td id=\"T_0e6a8_row4_col5\" class=\"data row4 col5\" >-0.237206</td>\n",
       "      <td id=\"T_0e6a8_row4_col6\" class=\"data row4 col6\" >0.757550</td>\n",
       "      <td id=\"T_0e6a8_row4_col7\" class=\"data row4 col7\" >0.820091</td>\n",
       "      <td id=\"T_0e6a8_row4_col8\" class=\"data row4 col8\" >0.745370</td>\n",
       "      <td id=\"T_0e6a8_row4_col9\" class=\"data row4 col9\" >0.746024</td>\n",
       "      <td id=\"T_0e6a8_row4_col10\" class=\"data row4 col10\" >0.208048</td>\n",
       "    </tr>\n",
       "    <tr>\n",
       "      <th id=\"T_0e6a8_level0_row5\" class=\"row_heading level0 row5\" >IEF</th>\n",
       "      <td id=\"T_0e6a8_row5_col0\" class=\"data row5 col0\" >0.235399</td>\n",
       "      <td id=\"T_0e6a8_row5_col1\" class=\"data row5 col1\" >-0.379698</td>\n",
       "      <td id=\"T_0e6a8_row5_col2\" class=\"data row5 col2\" >-0.311420</td>\n",
       "      <td id=\"T_0e6a8_row5_col3\" class=\"data row5 col3\" >-0.378969</td>\n",
       "      <td id=\"T_0e6a8_row5_col4\" class=\"data row5 col4\" >-0.237206</td>\n",
       "      <td id=\"T_0e6a8_row5_col5\" class=\"data row5 col5\" >1.000000</td>\n",
       "      <td id=\"T_0e6a8_row5_col6\" class=\"data row5 col6\" >-0.079125</td>\n",
       "      <td id=\"T_0e6a8_row5_col7\" class=\"data row5 col7\" >-0.404348</td>\n",
       "      <td id=\"T_0e6a8_row5_col8\" class=\"data row5 col8\" >-0.161356</td>\n",
       "      <td id=\"T_0e6a8_row5_col9\" class=\"data row5 col9\" >-0.419998</td>\n",
       "      <td id=\"T_0e6a8_row5_col10\" class=\"data row5 col10\" >0.649038</td>\n",
       "    </tr>\n",
       "    <tr>\n",
       "      <th id=\"T_0e6a8_level0_row6\" class=\"row_heading level0 row6\" >IYR</th>\n",
       "      <td id=\"T_0e6a8_row6_col0\" class=\"data row6 col0\" >0.397112</td>\n",
       "      <td id=\"T_0e6a8_row6_col1\" class=\"data row6 col1\" >0.321818</td>\n",
       "      <td id=\"T_0e6a8_row6_col2\" class=\"data row6 col2\" >0.614140</td>\n",
       "      <td id=\"T_0e6a8_row6_col3\" class=\"data row6 col3\" >0.666056</td>\n",
       "      <td id=\"T_0e6a8_row6_col4\" class=\"data row6 col4\" >0.757550</td>\n",
       "      <td id=\"T_0e6a8_row6_col5\" class=\"data row6 col5\" >-0.079125</td>\n",
       "      <td id=\"T_0e6a8_row6_col6\" class=\"data row6 col6\" >1.000000</td>\n",
       "      <td id=\"T_0e6a8_row6_col7\" class=\"data row6 col7\" >0.734348</td>\n",
       "      <td id=\"T_0e6a8_row6_col8\" class=\"data row6 col8\" >0.601285</td>\n",
       "      <td id=\"T_0e6a8_row6_col9\" class=\"data row6 col9\" >0.716066</td>\n",
       "      <td id=\"T_0e6a8_row6_col10\" class=\"data row6 col10\" >0.283457</td>\n",
       "    </tr>\n",
       "    <tr>\n",
       "      <th id=\"T_0e6a8_level0_row7\" class=\"row_heading level0 row7\" >PSP</th>\n",
       "      <td id=\"T_0e6a8_row7_col0\" class=\"data row7 col0\" >0.456009</td>\n",
       "      <td id=\"T_0e6a8_row7_col1\" class=\"data row7 col1\" >0.575219</td>\n",
       "      <td id=\"T_0e6a8_row7_col2\" class=\"data row7 col2\" >0.804353</td>\n",
       "      <td id=\"T_0e6a8_row7_col3\" class=\"data row7 col3\" >0.908241</td>\n",
       "      <td id=\"T_0e6a8_row7_col4\" class=\"data row7 col4\" >0.820091</td>\n",
       "      <td id=\"T_0e6a8_row7_col5\" class=\"data row7 col5\" >-0.404348</td>\n",
       "      <td id=\"T_0e6a8_row7_col6\" class=\"data row7 col6\" >0.734348</td>\n",
       "      <td id=\"T_0e6a8_row7_col7\" class=\"data row7 col7\" >1.000000</td>\n",
       "      <td id=\"T_0e6a8_row7_col8\" class=\"data row7 col8\" >0.810628</td>\n",
       "      <td id=\"T_0e6a8_row7_col9\" class=\"data row7 col9\" >0.894176</td>\n",
       "      <td id=\"T_0e6a8_row7_col10\" class=\"data row7 col10\" >0.135455</td>\n",
       "    </tr>\n",
       "    <tr>\n",
       "      <th id=\"T_0e6a8_level0_row8\" class=\"row_heading level0 row8\" >QAI</th>\n",
       "      <td id=\"T_0e6a8_row8_col0\" class=\"data row8 col0\" >0.605444</td>\n",
       "      <td id=\"T_0e6a8_row8_col1\" class=\"data row8 col1\" >0.617904</td>\n",
       "      <td id=\"T_0e6a8_row8_col2\" class=\"data row8 col2\" >0.805874</td>\n",
       "      <td id=\"T_0e6a8_row8_col3\" class=\"data row8 col3\" >0.830229</td>\n",
       "      <td id=\"T_0e6a8_row8_col4\" class=\"data row8 col4\" >0.745370</td>\n",
       "      <td id=\"T_0e6a8_row8_col5\" class=\"data row8 col5\" >-0.161356</td>\n",
       "      <td id=\"T_0e6a8_row8_col6\" class=\"data row8 col6\" >0.601285</td>\n",
       "      <td id=\"T_0e6a8_row8_col7\" class=\"data row8 col7\" >0.810628</td>\n",
       "      <td id=\"T_0e6a8_row8_col8\" class=\"data row8 col8\" >1.000000</td>\n",
       "      <td id=\"T_0e6a8_row8_col9\" class=\"data row8 col9\" >0.820112</td>\n",
       "      <td id=\"T_0e6a8_row8_col10\" class=\"data row8 col10\" >0.337546</td>\n",
       "    </tr>\n",
       "    <tr>\n",
       "      <th id=\"T_0e6a8_level0_row9\" class=\"row_heading level0 row9\" >SPY</th>\n",
       "      <td id=\"T_0e6a8_row9_col0\" class=\"data row9 col0\" >0.373806</td>\n",
       "      <td id=\"T_0e6a8_row9_col1\" class=\"data row9 col1\" >0.574377</td>\n",
       "      <td id=\"T_0e6a8_row9_col2\" class=\"data row9 col2\" >0.757758</td>\n",
       "      <td id=\"T_0e6a8_row9_col3\" class=\"data row9 col3\" >0.873131</td>\n",
       "      <td id=\"T_0e6a8_row9_col4\" class=\"data row9 col4\" >0.746024</td>\n",
       "      <td id=\"T_0e6a8_row9_col5\" class=\"data row9 col5\" >-0.419998</td>\n",
       "      <td id=\"T_0e6a8_row9_col6\" class=\"data row9 col6\" >0.716066</td>\n",
       "      <td id=\"T_0e6a8_row9_col7\" class=\"data row9 col7\" >0.894176</td>\n",
       "      <td id=\"T_0e6a8_row9_col8\" class=\"data row9 col8\" >0.820112</td>\n",
       "      <td id=\"T_0e6a8_row9_col9\" class=\"data row9 col9\" >1.000000</td>\n",
       "      <td id=\"T_0e6a8_row9_col10\" class=\"data row9 col10\" >0.103265</td>\n",
       "    </tr>\n",
       "    <tr>\n",
       "      <th id=\"T_0e6a8_level0_row10\" class=\"row_heading level0 row10\" >TIP</th>\n",
       "      <td id=\"T_0e6a8_row10_col0\" class=\"data row10 col0\" >0.526797</td>\n",
       "      <td id=\"T_0e6a8_row10_col1\" class=\"data row10 col1\" >0.137627</td>\n",
       "      <td id=\"T_0e6a8_row10_col2\" class=\"data row10 col2\" >0.221171</td>\n",
       "      <td id=\"T_0e6a8_row10_col3\" class=\"data row10 col3\" >0.138746</td>\n",
       "      <td id=\"T_0e6a8_row10_col4\" class=\"data row10 col4\" >0.208048</td>\n",
       "      <td id=\"T_0e6a8_row10_col5\" class=\"data row10 col5\" >0.649038</td>\n",
       "      <td id=\"T_0e6a8_row10_col6\" class=\"data row10 col6\" >0.283457</td>\n",
       "      <td id=\"T_0e6a8_row10_col7\" class=\"data row10 col7\" >0.135455</td>\n",
       "      <td id=\"T_0e6a8_row10_col8\" class=\"data row10 col8\" >0.337546</td>\n",
       "      <td id=\"T_0e6a8_row10_col9\" class=\"data row10 col9\" >0.103265</td>\n",
       "      <td id=\"T_0e6a8_row10_col10\" class=\"data row10 col10\" >1.000000</td>\n",
       "    </tr>\n",
       "  </tbody>\n",
       "</table>\n"
      ],
      "text/plain": [
       "<pandas.io.formats.style.Styler at 0x12d4a4b80>"
      ]
     },
     "execution_count": 137,
     "metadata": {},
     "output_type": "execute_result"
    }
   ],
   "source": [
    "corr = df1_tilde_annual.corr ()\n",
    "corr.style.background_gradient (cmap = 'coolwarm')"
   ]
  },
  {
   "cell_type": "markdown",
   "id": "d38666aa",
   "metadata": {},
   "source": [
    "Los activos que tienen la mayor correlacion son PSP-EFA con 0.908241, y por otro lado PSP-EFA con 0.894176. Luego podmeos observar que los activos con la correlacion mas baja TIP-SPY con un 0.10326 y TIP-PSP con 0.135455. Es importante destacar que las relaciones mas bajas entre los activos se encuentran entre los mismos y los TIPS."
   ]
  },
  {
   "cell_type": "markdown",
   "id": "5d8689ff",
   "metadata": {},
   "source": [
    "#### b. ¿Qué tan bien los TIPS se muestran en términos de rendimiento y volatilidad en nuestra muestra? ¿Acoso los TIPS superan a los bonos domésticos en termino de resultados? ¿Y en comparación a los bonos externos?"
   ]
  },
  {
   "cell_type": "markdown",
   "id": "e5390ccf",
   "metadata": {},
   "source": [
    "Los TIPS tiene mejor promedio de rendimientos en comparacion a los otros activos, sin embargo, tiene la menor volativilidad y el 4to en exceso de retorno, por lo que podemos considerarlo una muy buena inversion. Los TIPS tienen menos volatibilidad, sim embargo los bonos domesticos tienen mayor exceso de retorno, eso depende del tipo de inversionista, si es arriesgado o no el inversionista, Por otro lado los TIPS no superan a los bonos externos."
   ]
  },
  {
   "cell_type": "markdown",
   "id": "e84d823f",
   "metadata": {},
   "source": [
    "#### c. Basado en la data, ¿Acaso los TIPs aparentan expandir el conjunto de las oportunidades de inversión, implicando que Harvard debería considerarlas como activo diferente?"
   ]
  },
  {
   "cell_type": "markdown",
   "id": "e7f23c88",
   "metadata": {},
   "source": [
    "Los TIPs expanden el conjunto de oportunidades de inversion, Harvard definitivamente debe considerarlas como activo diferido."
   ]
  },
  {
   "cell_type": "markdown",
   "id": "c1ac4403",
   "metadata": {},
   "source": [
    "### 3. La Frontera MV"
   ]
  },
  {
   "cell_type": "markdown",
   "id": "57630e39",
   "metadata": {},
   "source": [
    "#### a.\tCompute y muestre los pesos del portafolio tangente"
   ]
  },
  {
   "cell_type": "code",
   "execution_count": 138,
   "id": "f1924bbc",
   "metadata": {},
   "outputs": [
    {
     "data": {
      "text/plain": [
       "BWX   -0.259236\n",
       "DBC   -0.049786\n",
       "EEM    0.068120\n",
       "EFA   -0.157671\n",
       "HYG    0.775635\n",
       "IEF    1.734962\n",
       "IYR   -0.366667\n",
       "PSP   -0.000685\n",
       "QAI   -2.477194\n",
       "SPY    1.540749\n",
       "TIP    0.191773\n",
       "dtype: float64"
      ]
     },
     "execution_count": 138,
     "metadata": {},
     "output_type": "execute_result"
    }
   ],
   "source": [
    "omega_tangency, mu_tilde, Sigma = compute_tangency(df1_tilde_annual)\n",
    "\n",
    "omega_tangency"
   ]
  },
  {
   "cell_type": "markdown",
   "id": "2ce66bd0",
   "metadata": {},
   "source": [
    "#### b.\tCompute la media, volatilidad y Sharpe Ratio del portafolio tangente"
   ]
  },
  {
   "cell_type": "code",
   "execution_count": 139,
   "id": "22583145",
   "metadata": {},
   "outputs": [
    {
     "name": "stdout",
     "output_type": "stream",
     "text": [
      "Mean:  0.2377671633954937 , vol:  0.10480197847812671 , sharpe_ratio:  2.268727812663558\n"
     ]
    }
   ],
   "source": [
    "# Mean\n",
    "\n",
    "mean = mu_tilde @ omega_tangency\n",
    "\n",
    "# Volatlity\n",
    "\n",
    "vol = np.sqrt(omega_tangency @ Sigma @ omega_tangency)/np.sqrt(12)\n",
    "\n",
    "\n",
    "# Sharpe ratio\n",
    "\n",
    "sharpe_ratio = mean/vol\n",
    "\n",
    "print(\"Mean: \",mean,\", vol: \",vol,\", sharpe_ratio: \",sharpe_ratio)"
   ]
  },
  {
   "cell_type": "markdown",
   "id": "a7167174",
   "metadata": {},
   "source": [
    "### 4.\tLa distribución de instrumentos."
   ]
  },
  {
   "cell_type": "markdown",
   "id": "34ec6180",
   "metadata": {},
   "source": [
    "a. Compute y muestre los pesos de los portafolios MV con un retorno  de  𝜇̃𝑝=0.01%\n"
   ]
  },
  {
   "cell_type": "code",
   "execution_count": 140,
   "id": "0ac9265a",
   "metadata": {},
   "outputs": [
    {
     "data": {
      "text/plain": [
       "BWX   -0.130835\n",
       "DBC   -0.025127\n",
       "EEM    0.034380\n",
       "EFA   -0.079576\n",
       "HYG    0.391459\n",
       "IEF    0.875628\n",
       "IYR   -0.185055\n",
       "PSP   -0.000346\n",
       "QAI   -1.250228\n",
       "SPY    0.777609\n",
       "TIP    0.096787\n",
       "dtype: float64"
      ]
     },
     "execution_count": 140,
     "metadata": {},
     "output_type": "execute_result"
    }
   ],
   "source": [
    "omega_star = target_mv_portfolio(df1_tilde_annual, target_return=0.01 * 12)\n",
    "\n",
    "omega_star"
   ]
  },
  {
   "cell_type": "markdown",
   "id": "b901034f",
   "metadata": {},
   "source": [
    "b. ¿Cuál es la media, volatilidad, y Sharpe Ratio para  $\\tilde{𝜇̃}^{p}$\n"
   ]
  },
  {
   "cell_type": "code",
   "execution_count": 141,
   "id": "3e09fb65",
   "metadata": {},
   "outputs": [
    {
     "name": "stdout",
     "output_type": "stream",
     "text": [
      "Mean:  0.12 , vol:  0.05289307925357346 , sharpe_ratio:  2.268727812663559\n"
     ]
    }
   ],
   "source": [
    "# Mean\n",
    "\n",
    "mean = mu_tilde @ omega_star\n",
    "\n",
    "\n",
    "# Volatlity\n",
    "\n",
    "vol = np.sqrt(omega_star @ Sigma @ omega_star)/np.sqrt(12)\n",
    "\n",
    "\n",
    "# Sharpe ratio\n",
    "\n",
    "sharpe_ratio = mean/vol\n",
    "\n",
    "print(\"Mean: \",mean,\", vol: \",vol,\", sharpe_ratio: \",sharpe_ratio)"
   ]
  },
  {
   "cell_type": "markdown",
   "id": "9834a7e7",
   "metadata": {},
   "source": [
    "#### c. Discuta la distribución de activos del portafolio. ¿En qué activos está el portafolio más long? ¿En qué activos está más short?"
   ]
  },
  {
   "cell_type": "markdown",
   "id": "6edae41a",
   "metadata": {},
   "source": [
    "El portafolio mas long se encuentra en los activos:\n",
    "EEM - HYG - IEF -SPY - TIP\n",
    "El portafolio mas short se encuentra en los activos:\n",
    "BWX - DBC - EFA - IYR - PSP - QAI"
   ]
  },
  {
   "cell_type": "markdown",
   "id": "7026e9f5",
   "metadata": {},
   "source": [
    "#### d. ¿Estos resultados se alinean con que activos tiene los Sharpe Ratios más altos?"
   ]
  },
  {
   "cell_type": "markdown",
   "id": "ffd6c2b6",
   "metadata": {},
   "source": [
    "Si, debido a que el Sharpe Ratio del portafolio es 2.2687278."
   ]
  },
  {
   "cell_type": "markdown",
   "id": "d820329c",
   "metadata": {},
   "source": [
    "### 5. Portafolios simples."
   ]
  },
  {
   "cell_type": "markdown",
   "id": "ca75572b",
   "metadata": {},
   "source": [
    "#### a. Calcule el rendimiento de portafolio con ponderadores iguales (equally weighted portfolio) sobre la muestra. \n",
    "\n",
    "$\\tilde{w}^{i} = 1/n $\n",
    "\n",
    "#### Reescale el vector de ponderadores para tener un media objetivo de $\\tilde{𝜇̃}^{p} = .01$. Reporte la media, volatilidad y Sharpe Ratio"
   ]
  },
  {
   "cell_type": "code",
   "execution_count": 155,
   "id": "72e078c3",
   "metadata": {},
   "outputs": [
    {
     "name": "stdout",
     "output_type": "stream",
     "text": [
      "Mean:  0.002425238565363779 , vol:  0.002603809379942794 , sharpe_ratio:  0.931419398073242\n"
     ]
    }
   ],
   "source": [
    "def pesosPortafolio(dataframe):\n",
    "    array = []\n",
    "    for i in dataframe.columns:\n",
    "        array.append(1/len(df.columns))\n",
    "        arrayFinal = np.array(array)\n",
    "        return arrayFinal\n",
    "    pesos = pesosPortafolio(df)\n",
    "    p = pesos*0.01/pesos.mean()\n",
    "    \n",
    "#Mean\n",
    "mean = mu_tilde @ p[0:11]\n",
    "\n",
    "#Volatlity\n",
    "vol = np.sqrt(p[0:11] @ Sigma @ p[0:11])/np.sqrt(12)\n",
    "\n",
    "#Sharpe ratio\n",
    "sharpe_ratio = mean/vol\n",
    "\n",
    "print(\"Mean: \",mean,\", vol: \",vol,\", sharpe_ratio: \",sharpe_ratio)\n"
   ]
  },
  {
   "cell_type": "markdown",
   "id": "1b129eec",
   "metadata": {},
   "source": [
    "#### b. Calcule el rendimiento de portafolio “Paridad de Riesgo” (Risk-Parity Portfolio) sobre la muestra. Risk-Parity es un término usado en diferentes casos en el mundo de las finanzas, pero en este caso lo que nos interesa es que los ponderadores o pesos de los activos dentro del portafolio sean proporcionales a la inversa de la volatilidad estimada de cada activo.\n",
    "\n",
    " $\\tilde{w}^{i} = 1/n $\n",
    "\n",
    "#### Esto resultara en el vector de ponderadores w, pero necesitara reescalar el vector para tener media $\\tilde{𝜇̃}^{p} = .01$"
   ]
  },
  {
   "cell_type": "code",
   "execution_count": 157,
   "id": "c8fb2bd2",
   "metadata": {},
   "outputs": [
    {
     "name": "stdout",
     "output_type": "stream",
     "text": [
      "El rendimiento del portafolio Risk-Parity es igual a: 2.93 %\n"
     ]
    }
   ],
   "source": [
    "\n",
    "# Calcular la matriz de covarianza de los retornos de los activos\n",
    "covariance = force.cov()\n",
    "\n",
    "# Calcular la volatilidad estimada de cada activo\n",
    "volatility = np.sqrt(np.diag(covariance))\n",
    "\n",
    "# Calcular los pesos de los activos utilizando la inversa de la volatilidad estimada\n",
    "weights = 1 / volatility\n",
    "weights /= np.sum(weights)\n",
    "p = weights*0.01/weights.mean()\n",
    "\n",
    "# Calcular el rendimiento del portafolio\n",
    "portfolio_returns = np.dot(force, p)\n",
    "\n",
    "#Imprimir el rendimiento del portafolio\n",
    "print('El rendimiento del portafolio Risk-Parity es igual a:', round(np.sum(portfolio_returns) * 100, 2), '%')\n",
    "\n"
   ]
  },
  {
   "cell_type": "markdown",
   "id": "f11d0fb6",
   "metadata": {},
   "source": [
    "#### c.¿Cómo se compara estos resultados al portafolio MV del problema 2.4?"
   ]
  },
  {
   "cell_type": "markdown",
   "id": "6ab6042f",
   "metadata": {},
   "source": [
    "El rendimiento del portafolio Risk-Parity da como resultado un mayor Sharpe Ratio que el portafolio MV, lo que quiere decir que al  los ponderadores o pesos de los activos dentro del portafolio ser proporcionales a la inversa de la volatilidad estimada de cada activo el portafolio tiene myor rentabilidad por unidad de volatilidad."
   ]
  },
  {
   "cell_type": "markdown",
   "id": "e9f8ddcc",
   "metadata": {},
   "source": [
    "### 6.\tRendimiento Out-of-sample"
   ]
  },
  {
   "cell_type": "markdown",
   "id": "69d7def4",
   "metadata": {},
   "source": [
    "Vamos a dividir la muestra en para computar un portafolio y luego ver su rendimiento fuera de muestra."
   ]
  },
  {
   "cell_type": "markdown",
   "id": "c0e52eec",
   "metadata": {},
   "source": [
    "#### a. Usando solo la data a hasta 2020, compute  $\\tilde{w}^{p}$ para $\\tilde{\\mu}^{p} = 0.01\\%$, utilizando las 11 clase de activos financieros dados."
   ]
  },
  {
   "cell_type": "code",
   "execution_count": 144,
   "id": "053d3433",
   "metadata": {},
   "outputs": [
    {
     "data": {
      "text/plain": [
       "BWX   -0.039015\n",
       "DBC   -0.070831\n",
       "EEM    0.027148\n",
       "EFA   -0.076195\n",
       "HYG    0.461413\n",
       "IEF    0.844823\n",
       "IYR   -0.209008\n",
       "PSP   -0.024835\n",
       "QAI   -1.197772\n",
       "SPY    0.785429\n",
       "TIP    0.056842\n",
       "dtype: float64"
      ]
     },
     "execution_count": 144,
     "metadata": {},
     "output_type": "execute_result"
    }
   ],
   "source": [
    "df1_temp = df1_tilde_annual.loc[:'2020', :]\n",
    "\n",
    "omega_tangency, mu_tilde, Sigma = compute_tangency(df1_temp)\n",
    "\n",
    "omega_star = target_mv_portfolio(df1_temp, target_return=0.01*12)\n",
    "\n",
    "omega_star"
   ]
  },
  {
   "cell_type": "markdown",
   "id": "993e05b8",
   "metadata": {},
   "source": [
    "#### b. Usando eso mismos ponderadores $\\tilde{w}^{p}$, calcule el Sharpe Ratio, dentro de la muestra, hasta finales del 2020. "
   ]
  },
  {
   "cell_type": "code",
   "execution_count": 145,
   "id": "45689731",
   "metadata": {},
   "outputs": [
    {
     "name": "stdout",
     "output_type": "stream",
     "text": [
      "Mean:  0.12 , vol:  0.052405114979212526 , sharpe_ratio:  2.2898528139400183\n"
     ]
    }
   ],
   "source": [
    "mean = omega_star @ mu_tilde\n",
    "\n",
    "vol = np.sqrt(omega_star @ Sigma @ omega_star)/np.sqrt(12)\n",
    "\n",
    "sharpe_ratio_in_sample = mean/vol\n",
    "\n",
    "sharpe_ratio_in_sample\n",
    "\n",
    "print(\"Mean: \",mean,\", vol: \",vol,\", sharpe_ratio: \",sharpe_ratio_in_sample)"
   ]
  },
  {
   "cell_type": "markdown",
   "id": "ee37f9fa",
   "metadata": {},
   "source": [
    "#### c. Usando los mismo ponderadores $\\tilde{w}^{p}$ (usando la data hasta finales del 2020), calcule el Sharpe Ratio basado en el año 2021."
   ]
  },
  {
   "cell_type": "code",
   "execution_count": 146,
   "id": "d0f6bc11",
   "metadata": {},
   "outputs": [
    {
     "name": "stdout",
     "output_type": "stream",
     "text": [
      "Mean:  0.15373102170980696 , vol:  0.07836756060512039 , sharpe_ratio:  1.9616665431814202\n"
     ]
    }
   ],
   "source": [
    "df1_temp = df1_tilde_annual.loc['2020':, :]\n",
    "\n",
    "omega_tangency, mu_tilde, Sigma = compute_tangency(df1_temp)\n",
    "\n",
    "mean = omega_star @ mu_tilde\n",
    "\n",
    "vol = np.sqrt(omega_star @ Sigma @ omega_star)/np.sqrt(12)\n",
    "\n",
    "sharpe_ratio_out_of_sample = mean/vol\n",
    "\n",
    "sharpe_ratio_out_of_sample\n",
    "\n",
    "print(\"Mean: \",mean,\", vol: \",vol,\", sharpe_ratio: \",sharpe_ratio_out_of_sample)"
   ]
  }
 ],
 "metadata": {
  "kernelspec": {
   "display_name": "Python 3 (ipykernel)",
   "language": "python",
   "name": "python3"
  },
  "language_info": {
   "codemirror_mode": {
    "name": "ipython",
    "version": 3
   },
   "file_extension": ".py",
   "mimetype": "text/x-python",
   "name": "python",
   "nbconvert_exporter": "python",
   "pygments_lexer": "ipython3",
   "version": "3.10.9"
  }
 },
 "nbformat": 4,
 "nbformat_minor": 5
}
