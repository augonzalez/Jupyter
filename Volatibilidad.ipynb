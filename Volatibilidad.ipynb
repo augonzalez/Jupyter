{
 "cells": [
  {
   "cell_type": "markdown",
   "metadata": {},
   "source": [
    "# <center> Econometria Financiera <center>\n",
    "    \n",
    "    \n",
    "<h2><center> Tarea #4</center></h2>\n",
    "\n",
    "<center> Ketherine Jimenez 1106918 - Aura Gonzalez 1106920 - Eddily Sanchez 1096853<center>\n",
    "\n",
    "**The Risk of Stocks in the Long-Run: The Barnstable College Endowment [HBS 9-296073].**"
   ]
  },
  {
   "cell_type": "code",
   "execution_count": 1,
   "metadata": {},
   "outputs": [],
   "source": [
    "import pandas as pd\n",
    "import numpy as np\n",
    "import scipy.stats\n",
    "from matplotlib import pyplot as plt\n",
    "import seaborn as sns\n",
    "# sns.set()\n",
    "\n",
    "#Cargando data\n",
    "path=\"/Users/Aura/Desktop/barnstable_analysis_data.xlsx\"\n",
    "df  = pd.read_excel(path, sheet_name=1)\n",
    "df = df.set_index('date')\n",
    "df['tilde_r'] = df['SPX'] - df['TB1M']\n",
    "\n"
   ]
  },
  {
   "cell_type": "markdown",
   "metadata": {},
   "source": [
    "### Análisis de Barnstable\n",
    "\n",
    "#### 1. La filosofía de Barnstable \n",
    "\n",
    "***a) ¿Cuál ha sido la estrategia de inversión de Barnstable en el pasado?*** \n",
    "\n",
    "La estrategia de la universidad era invertir el 4% y el 5% de la dotación cada año. Este gasto era utilizado para atraer y capacitar a estudiante del mas alto calibre, pero con antecedentes económicos bajos. Estos fondos le permitieron ofrecer cantidades significativas de dinero para becas por mérito, así como mantener la matricula en niveles moderados. \n",
    "\n",
    "***b) Explique la lógica detrás de la perspectiva de que las acciones son más seguras en el largo plazo.***\n",
    "\n",
    "Básicamente, se justifica a través de la ley de los grandes números, que en teoría indica que, si repetimos muchas veces un mismo evento (en este caso los movimientos de valores), la frecuencia de que suceda un cierto evento tiende a ser una constante. Mientras mas largo sea el plazo, el nivel de riesgo podría limitarse hasta llegar a cero. Esto presume que los rendimientos anuales son constantes e ignora la capitalización.\n",
    "\n",
    "***c) ¿Qué supuestos subyacen bajo la perspectiva de Barnstable de que en el largo plazo las acciones son más seguras? ***\n",
    "\n",
    "1- La desviación estándar de los rendimientos crece con el tiempo, pero no tan rápido como el rendimiento esperado, que crece proporcionalmente con el tiempo.\n",
    "\n",
    "Si σ es la desviación estándar de los rendimientos para un período de tenencia de un año, entonces la desviación estándar de los rendimientos para un período de tenencia de T años es σ √T.\n",
    "\n",
    "2- Ley de los grandes números. Si los movimientos del mercado de valores son aleatorios, los riesgos de un día a otro o de un mes a otro no están correlacionados secuencialmente. Estos movimientos no correlacionados se anulan entre sí hasta cierto punto, mientras que la desviación estándar anual es constante\n",
    "\n",
    "#### 2. Las dos propuestas.\n",
    "\n",
    "*** a) Describa las dos propuestas que Barnstable está considerando para tomar ventaja de la perspectiva sobre la seguridad de largo plazo de las acciones.***\n",
    " \n",
    "1.\tCuando los rendimientos de las acciones tienen una distribución logarítmica normal, el rendimiento mediano viene dado por el promedio geométrico de los rendimientos. La media geométrica es la media aritmética menos la mitad de la varianza, o •-½•2, donde • es la media aritmética y • es la desviación estándar de los rendimientos. Con una desviación estándar anual de los rendimientos de • = 16 % y un rendimiento aritmético esperado de • = 13 % anual, el rendimiento mediano o medio geométrico es 11,7 % anual (0,13 - ½(0,16)2= 0,117).\n",
    "\n",
    "2.\tLos fideicomisos tendrían una vida fija de 30 años, durante este tiempo los activos serian administrados como índices bursátiles S&P 500, incluía la reinversión de los dividendos. Terminado el último año (30), el fideicomiso se liquidaría y los activos se distribuirían entre los tenedores de obligaciones (los tenedores de Acciones Ordinarias recibirían cualquier activo que exceda el “valor de rescate”, mientras que los tenedores de Acciones Preferenciales recibirían el valor de rescate, o el valor de los bienes, el que fuera menor.\n",
    "\n",
    "El valor de la redención sería igual a Con capitalización continua a una tasa r por año, un dólar en el tiempo cero crece a ert durante t años. Si la tasa de rendimiento capitalizada continuamente es 6% anual, la tasa anual de capitalización es e0.06= 6,184%.\n",
    "\n",
    "*** b) ¿Acaso estas dos propuestas asumen la misma apuesta en el rendimiento a largo plazo de las acciones? **** \n",
    "\n",
    "No.  ¿En qué escenarios se obtendrán retornos diferentes? Si se realiza una venta de las acciones antes del tiempo de vencimiento. Es decir, cuando se determine el precio de ejercicio de la acción, a través de la primera propuesta el rendimiento seria igual a de una opción de venta sobre una inversión inicial de un dólar en el índice S&P 500 es de $1.062 por una inversión de un año, mientras que, en la segunda propuesta, las ventas de acciones preferenciales es libre de riesgo, obtendrían un precio muy alto relativo a la compra inicial, conservando sus acciones ordinarios en el mercado. \n"
   ]
  },
  {
   "cell_type": "markdown",
   "metadata": {},
   "source": [
    "# 2. Estimando el bajo rendimiento.\n",
    "\n",
    "Use los retornos del S&P500 ($r^m$) y Tbills ($r^f$) provistos en “barnstable_data.xlsx”. Este problema solo usa la data desde 1965 en adelante."
   ]
  },
  {
   "cell_type": "markdown",
   "metadata": {},
   "source": [
    "### 1. Los estimadores de media y volatilidad de Barnstable están basados en la submuestra de 1965 hasta 1999. Aquí, nosotros utilizamos la data completa del archivo, (1965-2020) para estimar los parámetros de los parámetros.\n",
    "\n",
    "***a. Reporte los siguientes estadísticos (anualizados).***\n"
   ]
  },
  {
   "cell_type": "code",
   "execution_count": 2,
   "metadata": {},
   "outputs": [
    {
     "data": {
      "text/html": [
       "<div>\n",
       "<style scoped>\n",
       "    .dataframe tbody tr th:only-of-type {\n",
       "        vertical-align: middle;\n",
       "    }\n",
       "\n",
       "    .dataframe tbody tr th {\n",
       "        vertical-align: top;\n",
       "    }\n",
       "\n",
       "    .dataframe thead th {\n",
       "        text-align: right;\n",
       "    }\n",
       "</style>\n",
       "<table border=\"1\" class=\"dataframe\">\n",
       "  <thead>\n",
       "    <tr style=\"text-align: right;\">\n",
       "      <th></th>\n",
       "      <th>SPX</th>\n",
       "      <th>TB1M</th>\n",
       "      <th>tilde_r</th>\n",
       "    </tr>\n",
       "  </thead>\n",
       "  <tbody>\n",
       "    <tr>\n",
       "      <th>Mean</th>\n",
       "      <td>0.115692</td>\n",
       "      <td>0.031809</td>\n",
       "      <td>0.083582</td>\n",
       "    </tr>\n",
       "  </tbody>\n",
       "</table>\n",
       "</div>"
      ],
      "text/plain": [
       "           SPX      TB1M   tilde_r\n",
       "Mean  0.115692  0.031809  0.083582"
      ]
     },
     "metadata": {},
     "output_type": "display_data"
    }
   ],
   "source": [
    "display(pd.DataFrame(df.mean() * 12, columns=['Mean']).T)"
   ]
  },
  {
   "cell_type": "code",
   "execution_count": 3,
   "metadata": {},
   "outputs": [
    {
     "name": "stdout",
     "output_type": "stream",
     "text": [
      "mu (logs) = 0.109\n",
      "Std.dev (levels) = 0.182\n",
      "Var (levels) = 0.033\n"
     ]
    },
    {
     "data": {
      "text/html": [
       "<style type=\"text/css\">\n",
       "</style>\n",
       "<table id=\"T_0f38b\">\n",
       "  <caption>Solution Table 1: Case Parameters.</caption>\n",
       "  <thead>\n",
       "    <tr>\n",
       "      <th class=\"blank level0\" >&nbsp;</th>\n",
       "      <th id=\"T_0f38b_level0_col0\" class=\"col_heading level0 col0\" >Mean</th>\n",
       "      <th id=\"T_0f38b_level0_col1\" class=\"col_heading level0 col1\" >Var</th>\n",
       "    </tr>\n",
       "  </thead>\n",
       "  <tbody>\n",
       "    <tr>\n",
       "      <th id=\"T_0f38b_level0_row0\" class=\"row_heading level0 row0\" >Return Levels</th>\n",
       "      <td id=\"T_0f38b_row0_col0\" class=\"data row0 col0\" >0.130000</td>\n",
       "      <td id=\"T_0f38b_row0_col1\" class=\"data row0 col1\" >0.033000</td>\n",
       "    </tr>\n",
       "    <tr>\n",
       "      <th id=\"T_0f38b_level0_row1\" class=\"row_heading level0 row1\" >Return Logs</th>\n",
       "      <td id=\"T_0f38b_row1_col0\" class=\"data row1 col0\" >0.109418</td>\n",
       "      <td id=\"T_0f38b_row1_col1\" class=\"data row1 col1\" >0.026000</td>\n",
       "    </tr>\n",
       "  </tbody>\n",
       "</table>\n"
      ],
      "text/plain": [
       "<pandas.io.formats.style.Styler at 0x123f9fb20>"
      ]
     },
     "execution_count": 3,
     "metadata": {},
     "output_type": "execute_result"
    }
   ],
   "source": [
    "m = 0.13\n",
    "sigma = 0.16\n",
    "mu = np.log(m + 1) - 1/2 * sigma**2\n",
    "print('mu (logs) = {:.3f}'.format(mu))\n",
    "\n",
    "s = np.sqrt(np.exp(2 * mu + sigma**2) * (np.exp(sigma**2) - 1))\n",
    "print('Std.dev (levels) = {:.3f}'.format(s)) # standard deviation of log return\n",
    "print('Var (levels) = {:.3f}'.format(s**2)) # variance of log return\n",
    "\n",
    "q1 = pd.DataFrame(columns=['Mean','Var'], index=['Return Levels','Return Logs'])\n",
    "q1.loc['Return Levels'] = [0.13, round(s**2, 3)]\n",
    "q1.loc['Return Logs'] = [mu, round(0.16**2,3)]\n",
    "q1.style.set_caption('Solution Table 1: Case Parameters.')"
   ]
  },
  {
   "cell_type": "code",
   "execution_count": 4,
   "metadata": {},
   "outputs": [],
   "source": [
    "def subtable_2_1(r_M='SPX', r_f='TB1M', df=df):\n",
    "    table = pd.DataFrame(columns=['mean', 'std'],\n",
    "        index=['r_M', 'tilde_r_M', 'r_f'])\n",
    "\n",
    "    table.loc['r_M', 'mean'] = df[r_M].mean() * 12\n",
    "    table.loc['r_f', 'mean'] = df[r_f].mean() * 12\n",
    "    table.loc['tilde_r_M', 'mean'] = table.loc['r_M', 'mean'] - table.loc['r_f', 'mean']\n",
    "\n",
    "    table.loc['r_M', 'std'] = df[r_M].std() * np.sqrt(12)\n",
    "    table.loc['r_f', 'std'] = df[r_f].std() * np.sqrt(12)\n",
    "    table.loc['tilde_r_M', 'std'] = (df[r_M] - df[r_f]).std() * np.sqrt(12)\n",
    "    return table\n",
    "\n",
    "# Levels\n",
    "df_subset = df.loc['1965':'1999']\n",
    "subtable_level_1965_1999 = subtable_2_1(df=df_subset)\n",
    "\n",
    "df_subset = df.loc['2000':'2021']\n",
    "subtable_level_2000_2021 = subtable_2_1(df=df_subset)\n",
    "\n",
    "df_subset = df.loc['1926':'2021']\n",
    "subtable_level_1926_2021 = subtable_2_1(df=df_subset)\n",
    "\n",
    "# Logs\n",
    "df_subset = np.log(df.loc['1965':'1999'] + 1)\n",
    "subtable_log_1965_1999 = subtable_2_1(df=df_subset)\n",
    "\n",
    "df_subset = np.log(df.loc['2000':'2021'] + 1)\n",
    "subtable_log_2000_2021 = subtable_2_1(df=df_subset)\n",
    "\n",
    "df_subset = np.log(df.loc['1936':'2021'] + 1)\n",
    "subtable_log_1926_2021 = subtable_2_1(df=df_subset)"
   ]
  },
  {
   "cell_type": "code",
   "execution_count": 12,
   "metadata": {},
   "outputs": [
    {
     "data": {
      "text/html": [
       "<div>\n",
       "<style scoped>\n",
       "    .dataframe tbody tr th:only-of-type {\n",
       "        vertical-align: middle;\n",
       "    }\n",
       "\n",
       "    .dataframe tbody tr th {\n",
       "        vertical-align: top;\n",
       "    }\n",
       "\n",
       "    .dataframe thead th {\n",
       "        text-align: right;\n",
       "    }\n",
       "</style>\n",
       "<table border=\"1\" class=\"dataframe\">\n",
       "  <thead>\n",
       "    <tr style=\"text-align: right;\">\n",
       "      <th></th>\n",
       "      <th>mean</th>\n",
       "      <th>std</th>\n",
       "    </tr>\n",
       "  </thead>\n",
       "  <tbody>\n",
       "    <tr>\n",
       "      <th>r_M</th>\n",
       "      <td>0.129354</td>\n",
       "      <td>0.149404</td>\n",
       "    </tr>\n",
       "    <tr>\n",
       "      <th>tilde_r_M</th>\n",
       "      <td>0.067851</td>\n",
       "      <td>0.150226</td>\n",
       "    </tr>\n",
       "    <tr>\n",
       "      <th>r_f</th>\n",
       "      <td>0.061503</td>\n",
       "      <td>0.007179</td>\n",
       "    </tr>\n",
       "  </tbody>\n",
       "</table>\n",
       "</div>"
      ],
      "text/plain": [
       "               mean       std\n",
       "r_M        0.129354  0.149404\n",
       "tilde_r_M  0.067851  0.150226\n",
       "r_f        0.061503  0.007179"
      ]
     },
     "execution_count": 12,
     "metadata": {},
     "output_type": "execute_result"
    }
   ],
   "source": [
    "subtable_level_1965_1999"
   ]
  },
  {
   "cell_type": "code",
   "execution_count": 5,
   "metadata": {},
   "outputs": [
    {
     "name": "stdout",
     "output_type": "stream",
     "text": [
      "Solution Table 2: Case Parameters for LEVELS\n"
     ]
    },
    {
     "data": {
      "text/html": [
       "<div>\n",
       "<style scoped>\n",
       "    .dataframe tbody tr th:only-of-type {\n",
       "        vertical-align: middle;\n",
       "    }\n",
       "\n",
       "    .dataframe tbody tr th {\n",
       "        vertical-align: top;\n",
       "    }\n",
       "\n",
       "    .dataframe thead th {\n",
       "        text-align: right;\n",
       "    }\n",
       "</style>\n",
       "<table border=\"1\" class=\"dataframe\">\n",
       "  <thead>\n",
       "    <tr style=\"text-align: right;\">\n",
       "      <th></th>\n",
       "      <th>mean 1965-1999</th>\n",
       "      <th>std 1965-1999</th>\n",
       "      <th>mean 2000-2021</th>\n",
       "      <th>std 2000-2021</th>\n",
       "      <th>mean 1926-2021</th>\n",
       "      <th>std 1926-2021</th>\n",
       "    </tr>\n",
       "  </thead>\n",
       "  <tbody>\n",
       "    <tr>\n",
       "      <th>r_M</th>\n",
       "      <td>0.129354</td>\n",
       "      <td>0.149404</td>\n",
       "      <td>0.083958</td>\n",
       "      <td>0.1499</td>\n",
       "      <td>0.115692</td>\n",
       "      <td>0.187193</td>\n",
       "    </tr>\n",
       "    <tr>\n",
       "      <th>tilde_r_M</th>\n",
       "      <td>0.067851</td>\n",
       "      <td>0.150226</td>\n",
       "      <td>0.069255</td>\n",
       "      <td>0.150526</td>\n",
       "      <td>0.083883</td>\n",
       "      <td>0.187949</td>\n",
       "    </tr>\n",
       "    <tr>\n",
       "      <th>r_f</th>\n",
       "      <td>0.061503</td>\n",
       "      <td>0.007179</td>\n",
       "      <td>0.014703</td>\n",
       "      <td>0.005038</td>\n",
       "      <td>0.031809</td>\n",
       "      <td>0.008581</td>\n",
       "    </tr>\n",
       "  </tbody>\n",
       "</table>\n",
       "</div>"
      ],
      "text/plain": [
       "          mean 1965-1999 std 1965-1999 mean 2000-2021 std 2000-2021  \\\n",
       "r_M             0.129354      0.149404       0.083958        0.1499   \n",
       "tilde_r_M       0.067851      0.150226       0.069255      0.150526   \n",
       "r_f             0.061503      0.007179       0.014703      0.005038   \n",
       "\n",
       "          mean 1926-2021 std 1926-2021  \n",
       "r_M             0.115692      0.187193  \n",
       "tilde_r_M       0.083883      0.187949  \n",
       "r_f             0.031809      0.008581  "
      ]
     },
     "metadata": {},
     "output_type": "display_data"
    },
    {
     "name": "stdout",
     "output_type": "stream",
     "text": [
      "Solution Table 3: Case Parameters for LOGS\n"
     ]
    },
    {
     "data": {
      "text/html": [
       "<div>\n",
       "<style scoped>\n",
       "    .dataframe tbody tr th:only-of-type {\n",
       "        vertical-align: middle;\n",
       "    }\n",
       "\n",
       "    .dataframe tbody tr th {\n",
       "        vertical-align: top;\n",
       "    }\n",
       "\n",
       "    .dataframe thead th {\n",
       "        text-align: right;\n",
       "    }\n",
       "</style>\n",
       "<table border=\"1\" class=\"dataframe\">\n",
       "  <thead>\n",
       "    <tr style=\"text-align: right;\">\n",
       "      <th></th>\n",
       "      <th>mean 1965-1999</th>\n",
       "      <th>std 1965-1999</th>\n",
       "      <th>mean</th>\n",
       "      <th>std</th>\n",
       "      <th>mean 1926-2021</th>\n",
       "      <th>std 1926-2021</th>\n",
       "    </tr>\n",
       "  </thead>\n",
       "  <tbody>\n",
       "    <tr>\n",
       "      <th>r_M</th>\n",
       "      <td>0.1176</td>\n",
       "      <td>0.149568</td>\n",
       "      <td>0.07242</td>\n",
       "      <td>0.151027</td>\n",
       "      <td>0.104303</td>\n",
       "      <td>0.157406</td>\n",
       "    </tr>\n",
       "    <tr>\n",
       "      <th>tilde_r_M</th>\n",
       "      <td>0.056279</td>\n",
       "      <td>0.150396</td>\n",
       "      <td>0.057738</td>\n",
       "      <td>0.151634</td>\n",
       "      <td>0.071142</td>\n",
       "      <td>0.158109</td>\n",
       "    </tr>\n",
       "    <tr>\n",
       "      <th>r_f</th>\n",
       "      <td>0.06132</td>\n",
       "      <td>0.007132</td>\n",
       "      <td>0.014681</td>\n",
       "      <td>0.005028</td>\n",
       "      <td>0.033161</td>\n",
       "      <td>0.008789</td>\n",
       "    </tr>\n",
       "  </tbody>\n",
       "</table>\n",
       "</div>"
      ],
      "text/plain": [
       "          mean 1965-1999 std 1965-1999      mean       std mean 1926-2021  \\\n",
       "r_M               0.1176      0.149568   0.07242  0.151027       0.104303   \n",
       "tilde_r_M       0.056279      0.150396  0.057738  0.151634       0.071142   \n",
       "r_f              0.06132      0.007132  0.014681  0.005028       0.033161   \n",
       "\n",
       "          std 1926-2021  \n",
       "r_M            0.157406  \n",
       "tilde_r_M      0.158109  \n",
       "r_f            0.008789  "
      ]
     },
     "metadata": {},
     "output_type": "display_data"
    }
   ],
   "source": [
    "subtable_level_1965_1999 = subtable_level_1965_1999.rename(columns=\\\n",
    "                    {'mean':'mean 1965-1999','std':'std 1965-1999'})\n",
    "\n",
    "subtable_level_2000_2021 = subtable_level_2000_2021.rename(columns=\\\n",
    "                    {'mean':'mean 2000-2021','std':'std 2000-2021'})\n",
    "\n",
    "subtable_level_1926_2021 = subtable_level_1926_2021.rename(columns=\\\n",
    "                    {'mean':'mean 1926-2021','std':'std 1926-2021'})\n",
    "\n",
    "q21 = pd.concat([subtable_level_1965_1999,subtable_level_2000_2021,subtable_level_1926_2021], axis=1)\n",
    "print('Solution Table 2: Case Parameters for LEVELS')\n",
    "display(q21)\n",
    "\n",
    "subtable_log_1965_1999 = subtable_log_1965_1999.rename(columns=\\\n",
    "                    {'mean':'mean 1965-1999','std':'std 1965-1999'})\n",
    "subtable_log_2000_2020 = subtable_log_2000_2021.rename(columns=\\\n",
    "                    {'mean':'mean 2000-2021','std':'std 2000-2021'})\n",
    "subtable_log_1926_2021 = subtable_log_1926_2021.rename(columns=\\\n",
    "                    {'mean':'mean 1926-2021','std':'std 1926-2021'})\n",
    "q22 = pd.concat([subtable_log_1965_1999,subtable_log_2000_2021,subtable_log_1926_2021], axis=1)\n",
    "print('Solution Table 3: Case Parameters for LOGS')\n",
    "display(q22)"
   ]
  },
  {
   "cell_type": "markdown",
   "metadata": {},
   "source": [
    "\n",
    "***b. Comente como los estadísticos de la muestra completa se comparan con la submuestra. Comente como los estadísticos nivel (level) se comparan con los estadísticos en log.***\n",
    "\n"
   ]
  },
  {
   "cell_type": "markdown",
   "metadata": {},
   "source": [
    "(Cambiar respuestas a nuestro caso)\n",
    "\n",
    "<span style=\"color:#00008B\"> **Solución:** Vea Table 2 and Table 3.</span>\n",
    "\n",
    "<span style=\"color:#00008B\"> - La muestra 1965-1999 cubierta en el caso tiene un retorno promedio del mercado mucho mayor que los periodos subsiguientes.</span>\n",
    "\n",
    "<span style=\"color:#00008B\"> - Esto es explicado en gran parte por el nivel tan bajo de la tasa libre de riesgo en submuestra futura.</span>\n",
    "\n",
    "<span style=\"color:#00008B\"> - El exceso de retorno es menor en promedio en los periodos subsiguientes, pero no es tan dramático como los retornos totales de mercado y la tasa libre de riesgo.</span>\n",
    "\n",
    "<span style=\"color:#00008B\"> - Los log-retornos muestran una menor media como es de esperarse. </span>"
   ]
  },
  {
   "cell_type": "markdown",
   "metadata": {},
   "source": [
    "### 2. En el caso se asume que los retornos de las acciones son iid, y distribuidos log normalmente."
   ]
  },
  {
   "cell_type": "markdown",
   "metadata": {},
   "source": [
    "\n",
    "La siguiente tabla muestra los estadisticos dados en el caso,\n",
    "\n",
    "Note que la media estimada es por los retornos-nivel, 𝑟𝑡^𝑀, mientras que la volatilidad estimada corresponde a los log-retornos, r𝑡^𝑀. Aquí y en cualquier ocasión es beneficioso trasladar la media y la volatilidad de nivel a logs -por lo menos en el caso lognormal.\n",
    "\n",
    "Usando las siguientes formulas en nivel-retorno para trasladar la media y la varianza a log-retornos\n",
    "\n"
   ]
  },
  {
   "cell_type": "markdown",
   "metadata": {},
   "source": [
    "a. Utilice las estimaciones en la tabla de arriba, así como también las ecuaciones para calcular la media de los log-retornos, μ.\n",
    "¿Acaso es la misma respuesta que la calculada en el caso, 0.117? (Pie de Página 3.)"
   ]
  },
  {
   "cell_type": "code",
   "execution_count": 6,
   "metadata": {},
   "outputs": [
    {
     "name": "stdout",
     "output_type": "stream",
     "text": [
      "mu (logs) = 0.109\n"
     ]
    },
    {
     "data": {
      "text/html": [
       "<style type=\"text/css\">\n",
       "</style>\n",
       "<table id=\"T_35285\">\n",
       "  <caption>Table 4: Case Barnstable case estimates</caption>\n",
       "  <thead>\n",
       "    <tr>\n",
       "      <th class=\"blank level0\" >&nbsp;</th>\n",
       "      <th id=\"T_35285_level0_col0\" class=\"col_heading level0 col0\" >Mean</th>\n",
       "      <th id=\"T_35285_level0_col1\" class=\"col_heading level0 col1\" >Var</th>\n",
       "    </tr>\n",
       "  </thead>\n",
       "  <tbody>\n",
       "    <tr>\n",
       "      <th id=\"T_35285_level0_row0\" class=\"row_heading level0 row0\" >Return Levels</th>\n",
       "      <td id=\"T_35285_row0_col0\" class=\"data row0 col0\" >0.130000</td>\n",
       "      <td id=\"T_35285_row0_col1\" class=\"data row0 col1\" >0.033000</td>\n",
       "    </tr>\n",
       "    <tr>\n",
       "      <th id=\"T_35285_level0_row1\" class=\"row_heading level0 row1\" >Return Logs</th>\n",
       "      <td id=\"T_35285_row1_col0\" class=\"data row1 col0\" >0.109418</td>\n",
       "      <td id=\"T_35285_row1_col1\" class=\"data row1 col1\" >0.026000</td>\n",
       "    </tr>\n",
       "  </tbody>\n",
       "</table>\n"
      ],
      "text/plain": [
       "<pandas.io.formats.style.Styler at 0x12421fc40>"
      ]
     },
     "execution_count": 6,
     "metadata": {},
     "output_type": "execute_result"
    }
   ],
   "source": [
    "m = 0.13\n",
    "sigma = 0.16\n",
    "mu = np.log(m + 1) - 1/2 * sigma**2\n",
    "print('mu (logs) = {:.3f}'.format(mu))\n",
    "\n",
    "s = np.sqrt(np.exp(2 * mu + sigma**2) * (np.exp(sigma**2) - 1))\n",
    "\n",
    "# Logs\n",
    "q1 = pd.DataFrame(columns=['Mean','Var'], index=['Return Levels','Return Logs'])\n",
    "q1.loc['Return Levels'] = [0.13, round(s**2, 3)]\n",
    "q1.loc['Return Logs'] = [mu, round(0.16**2,3)]\n",
    "q1.style.set_caption('Table 4: Case Barnstable case estimates')"
   ]
  },
  {
   "cell_type": "markdown",
   "metadata": {},
   "source": [
    "***b. También calcule var[𝑟t^𝑀].***"
   ]
  },
  {
   "cell_type": "code",
   "execution_count": 7,
   "metadata": {},
   "outputs": [],
   "source": [
    "def level_var(level_mu, log_sigma):\n",
    "    log_mu = log_mu(level_mu, log_sigma)\n",
    "    return np.exp(2*log_mu + log_sigma) * (np.exp(log_sigma**2) - 1)\n",
    "\n"
   ]
  },
  {
   "cell_type": "code",
   "execution_count": 10,
   "metadata": {},
   "outputs": [
    {
     "ename": "SyntaxError",
     "evalue": "invalid syntax (3819952026.py, line 1)",
     "output_type": "error",
     "traceback": [
      "\u001b[0;36m  Input \u001b[0;32mIn [10]\u001b[0;36m\u001b[0m\n\u001b[0;31m    print('variance of level return of stocks' + (round(level_var).13,.16, 4)))\u001b[0m\n\u001b[0m                                                                  ^\u001b[0m\n\u001b[0;31mSyntaxError\u001b[0m\u001b[0;31m:\u001b[0m invalid syntax\n"
     ]
    }
   ],
   "source": [
    "print('variance of level return of stocks' + (round(level_var).13,.16, 4)))"
   ]
  },
  {
   "cell_type": "markdown",
   "metadata": {},
   "source": [
    "***c. ¿Son la media y la volatilidad mayores para las variables en nivel o en log-retornos?***"
   ]
  },
  {
   "cell_type": "markdown",
   "metadata": {},
   "source": [
    "Respuesta"
   ]
  },
  {
   "cell_type": "markdown",
   "metadata": {},
   "source": [
    "#### 3. ¿Acaso el análisis cambia significativamente si utilizamos la data pre-1965 en nuestros estimados de retornos de mercado y la tasa libre de riesgo?"
   ]
  },
  {
   "cell_type": "code",
   "execution_count": null,
   "metadata": {},
   "outputs": [],
   "source": []
  },
  {
   "cell_type": "markdown",
   "metadata": {},
   "source": [
    "## 3. Modelando Volatilidad y VaR"
   ]
  },
  {
   "cell_type": "markdown",
   "metadata": {},
   "source": [
    "### Para la muestra completa de los retornos de mercado, 1926-2021, calcule el nivel (no, LOG) exceso de retorno. Utilizaremos data en exceso de retorno durante esta sección completa."
   ]
  },
  {
   "cell_type": "code",
   "execution_count": 16,
   "metadata": {},
   "outputs": [
    {
     "data": {
      "text/html": [
       "<div>\n",
       "<style scoped>\n",
       "    .dataframe tbody tr th:only-of-type {\n",
       "        vertical-align: middle;\n",
       "    }\n",
       "\n",
       "    .dataframe tbody tr th {\n",
       "        vertical-align: top;\n",
       "    }\n",
       "\n",
       "    .dataframe thead th {\n",
       "        text-align: right;\n",
       "    }\n",
       "</style>\n",
       "<table border=\"1\" class=\"dataframe\">\n",
       "  <thead>\n",
       "    <tr style=\"text-align: right;\">\n",
       "      <th></th>\n",
       "      <th>SPX</th>\n",
       "      <th>TB1M</th>\n",
       "      <th>tilde_r</th>\n",
       "    </tr>\n",
       "    <tr>\n",
       "      <th>date</th>\n",
       "      <th></th>\n",
       "      <th></th>\n",
       "      <th></th>\n",
       "    </tr>\n",
       "  </thead>\n",
       "  <tbody>\n",
       "    <tr>\n",
       "      <th>1926-01-30</th>\n",
       "      <td>-0.001783</td>\n",
       "      <td>0.003061</td>\n",
       "      <td>-0.004844</td>\n",
       "    </tr>\n",
       "    <tr>\n",
       "      <th>1926-02-27</th>\n",
       "      <td>-0.033296</td>\n",
       "      <td>0.002612</td>\n",
       "      <td>-0.035908</td>\n",
       "    </tr>\n",
       "    <tr>\n",
       "      <th>1926-03-31</th>\n",
       "      <td>-0.057708</td>\n",
       "      <td>0.002601</td>\n",
       "      <td>-0.060309</td>\n",
       "    </tr>\n",
       "    <tr>\n",
       "      <th>1926-04-30</th>\n",
       "      <td>0.038522</td>\n",
       "      <td>0.002270</td>\n",
       "      <td>0.036252</td>\n",
       "    </tr>\n",
       "    <tr>\n",
       "      <th>1926-05-28</th>\n",
       "      <td>0.013623</td>\n",
       "      <td>0.002691</td>\n",
       "      <td>0.010932</td>\n",
       "    </tr>\n",
       "  </tbody>\n",
       "</table>\n",
       "</div>"
      ],
      "text/plain": [
       "                 SPX      TB1M   tilde_r\n",
       "date                                    \n",
       "1926-01-30 -0.001783  0.003061 -0.004844\n",
       "1926-02-27 -0.033296  0.002612 -0.035908\n",
       "1926-03-31 -0.057708  0.002601 -0.060309\n",
       "1926-04-30  0.038522  0.002270  0.036252\n",
       "1926-05-28  0.013623  0.002691  0.010932"
      ]
     },
     "execution_count": 16,
     "metadata": {},
     "output_type": "execute_result"
    }
   ],
   "source": [
    "df.head()"
   ]
  },
  {
   "cell_type": "markdown",
   "metadata": {},
   "source": [
    "### 1. VaR Histórico\n",
    "\n",
    "Empezando en t=61, calcule el VaR histórico, basando en la muestra expandida desde el periodo 1 (enero 1926) hasta t-1. Por VaR histórico, simplemente tomamos el 5to cuantil de la muestra histórica hasta t-1. Claramente, para una muestra con un tamaño que no sea un múltiplo de 100 requiere alguna interpolación del 5to cuantil. Los paquetes estadísticos de Python pueden manejar esto.\n",
    "\n",
    "Denote esto como r^VaR0.5,.05 el cuál es el mejor estimador del VaR en el tiempo t basado en la data hasta t-1. \n",
    "\n",
    "\n",
    "\n"
   ]
  },
  {
   "cell_type": "markdown",
   "metadata": {},
   "source": [
    "***• Grafique r^VaR0.5, a través del tiempo.***\n"
   ]
  },
  {
   "cell_type": "code",
   "execution_count": 17,
   "metadata": {
    "scrolled": true
   },
   "outputs": [
    {
     "data": {
      "text/plain": [
       "Text(0.5, 1.0, 'Historical VaR')"
      ]
     },
     "execution_count": 17,
     "metadata": {},
     "output_type": "execute_result"
    },
    {
     "data": {
      "image/png": "[encoded data removed]",
      "text/plain": [
       "<Figure size 432x288 with 1 Axes>"
      ]
     },
     "metadata": {
      "needs_background": "light"
     },
     "output_type": "display_data"
    }
   ],
   "source": [
    "#part (a)\n",
    "var_hist = df['tilde_r'].shift(1).expanding(61).quantile(0.05).dropna()\n",
    "plt.plot(var_hist)\n",
    "plt.ylabel('VaR')\n",
    "plt.title(\"Historical VaR\")"
   ]
  },
  {
   "cell_type": "markdown",
   "metadata": {},
   "source": [
    "***• Calcule la frecuencia de los periodos en que r^VaR0.5***"
   ]
  },
  {
   "cell_type": "code",
   "execution_count": 20,
   "metadata": {},
   "outputs": [
    {
     "name": "stdout",
     "output_type": "stream",
     "text": [
      "Frequency of r_tilde < r_tilde_var: 31\n"
     ]
    },
    {
     "data": {
      "text/plain": [
       "2.85"
      ]
     },
     "execution_count": 20,
     "metadata": {},
     "output_type": "execute_result"
    }
   ],
   "source": [
    "#part (b)\n",
    "freq = np.size(var_hist[df.iloc[61:]['tilde_r']<var_hist])\n",
    "print(\"Frequency of r_tilde < r_tilde_var: %d\" %freq)\n",
    "np.round(freq*100/np.size(var_hist.index),2)"
   ]
  },
  {
   "cell_type": "markdown",
   "metadata": {},
   "source": [
    "***• Que diferencias puede senalar en este VaR historico?***"
   ]
  },
  {
   "cell_type": "markdown",
   "metadata": {},
   "source": [
    "Respuesta"
   ]
  },
  {
   "cell_type": "markdown",
   "metadata": {},
   "source": [
    "### 2. Volatibilidad"
   ]
  },
  {
   "cell_type": "markdown",
   "metadata": {},
   "source": [
    "***a) Para cada uno de estos métodos, grafique 𝜎𝜎𝑡𝑡. (Grafique volatilidad, no varianza.)***\n"
   ]
  },
  {
   "cell_type": "code",
   "execution_count": 21,
   "metadata": {},
   "outputs": [],
   "source": [
    "import itertools\n",
    "#part a\n",
    "def rms(x):\n",
    "    return (lambda x: ((x**2).sum()/len(x))**(0.5))\n",
    "\n",
    "sigma_expanding = df['tilde_r'].shift(1).dropna().expanding(60).apply(lambda x: ((x**2).sum()/len(x))**(0.5))\n",
    "sigma_roll = df['tilde_r'].shift(1).dropna().rolling(60).apply(lambda x: ((x**2).sum()/len(x))**(0.5))\n",
    "\n",
    "#IGARCH\n",
    "ig = df['tilde_r'].shift(1).dropna()\n",
    "ig.iloc[0] = 0.15\n",
    "\n",
    "sigma_ig = pd.Series(itertools.accumulate(ig, lambda a, b: (0.97 * a**2 + (1-0.97) * b**2)**0.5), index=sigma_expanding.index)"
   ]
  },
  {
   "cell_type": "code",
   "execution_count": 22,
   "metadata": {
    "scrolled": true
   },
   "outputs": [
    {
     "data": {
      "text/plain": [
       "<matplotlib.legend.Legend at 0x1290fe880>"
      ]
     },
     "execution_count": 22,
     "metadata": {},
     "output_type": "execute_result"
    },
    {
     "data": {
      "image/png": "[encoded data removed]",
      "text/plain": [
       "<Figure size 432x288 with 1 Axes>"
      ]
     },
     "metadata": {
      "needs_background": "light"
     },
     "output_type": "display_data"
    }
   ],
   "source": [
    "plt.plot(sigma_expanding,label='Expanding')\n",
    "plt.plot(sigma_roll,label='Rolling')\n",
    "plt.plot(sigma_ig,label='Igarch')\n",
    "plt.legend()"
   ]
  },
  {
   "cell_type": "markdown",
   "metadata": {},
   "source": [
    "***b) Para cada método, calcule 5to percentil, es decir, el VaR proyectado para el siguiente día. En este caso\n",
    "utilizamos una versión simplificada del VaR utilizando distribución normal, no considerando μ de la formula, y redondeando el z-score a -1.65.***"
   ]
  },
  {
   "cell_type": "code",
   "execution_count": 27,
   "metadata": {
    "scrolled": true
   },
   "outputs": [
    {
     "name": "stdout",
     "output_type": "stream",
     "text": [
      "Solution Table 3: Case Parameters for LOGS\n"
     ]
    },
    {
     "data": {
      "text/html": [
       "<div>\n",
       "<style scoped>\n",
       "    .dataframe tbody tr th:only-of-type {\n",
       "        vertical-align: middle;\n",
       "    }\n",
       "\n",
       "    .dataframe tbody tr th {\n",
       "        vertical-align: top;\n",
       "    }\n",
       "\n",
       "    .dataframe thead th {\n",
       "        text-align: right;\n",
       "    }\n",
       "</style>\n",
       "<table border=\"1\" class=\"dataframe\">\n",
       "  <thead>\n",
       "    <tr style=\"text-align: right;\">\n",
       "      <th></th>\n",
       "      <th>tilde_r</th>\n",
       "      <th>tilde_r</th>\n",
       "      <th>0</th>\n",
       "    </tr>\n",
       "    <tr>\n",
       "      <th>date</th>\n",
       "      <th></th>\n",
       "      <th></th>\n",
       "      <th></th>\n",
       "    </tr>\n",
       "  </thead>\n",
       "  <tbody>\n",
       "    <tr>\n",
       "      <th>1926-02-27</th>\n",
       "      <td>NaN</td>\n",
       "      <td>NaN</td>\n",
       "      <td>-0.247500</td>\n",
       "    </tr>\n",
       "    <tr>\n",
       "      <th>1926-03-31</th>\n",
       "      <td>NaN</td>\n",
       "      <td>NaN</td>\n",
       "      <td>-0.243975</td>\n",
       "    </tr>\n",
       "    <tr>\n",
       "      <th>1926-04-30</th>\n",
       "      <td>NaN</td>\n",
       "      <td>NaN</td>\n",
       "      <td>-0.240905</td>\n",
       "    </tr>\n",
       "    <tr>\n",
       "      <th>1926-05-28</th>\n",
       "      <td>NaN</td>\n",
       "      <td>NaN</td>\n",
       "      <td>-0.237490</td>\n",
       "    </tr>\n",
       "    <tr>\n",
       "      <th>1926-06-30</th>\n",
       "      <td>NaN</td>\n",
       "      <td>NaN</td>\n",
       "      <td>-0.233921</td>\n",
       "    </tr>\n",
       "    <tr>\n",
       "      <th>...</th>\n",
       "      <td>...</td>\n",
       "      <td>...</td>\n",
       "      <td>...</td>\n",
       "    </tr>\n",
       "    <tr>\n",
       "      <th>2021-04-30</th>\n",
       "      <td>-0.090351</td>\n",
       "      <td>-0.073571</td>\n",
       "      <td>-0.081622</td>\n",
       "    </tr>\n",
       "    <tr>\n",
       "      <th>2021-05-28</th>\n",
       "      <td>-0.090349</td>\n",
       "      <td>-0.074457</td>\n",
       "      <td>-0.081851</td>\n",
       "    </tr>\n",
       "    <tr>\n",
       "      <th>2021-06-30</th>\n",
       "      <td>-0.090310</td>\n",
       "      <td>-0.074367</td>\n",
       "      <td>-0.080633</td>\n",
       "    </tr>\n",
       "    <tr>\n",
       "      <th>2021-07-30</th>\n",
       "      <td>-0.090278</td>\n",
       "      <td>-0.074536</td>\n",
       "      <td>-0.079702</td>\n",
       "    </tr>\n",
       "    <tr>\n",
       "      <th>2021-08-31</th>\n",
       "      <td>-0.090246</td>\n",
       "      <td>-0.074311</td>\n",
       "      <td>-0.078803</td>\n",
       "    </tr>\n",
       "  </tbody>\n",
       "</table>\n",
       "<p>1135 rows × 3 columns</p>\n",
       "</div>"
      ],
      "text/plain": [
       "             tilde_r   tilde_r         0\n",
       "date                                    \n",
       "1926-02-27       NaN       NaN -0.247500\n",
       "1926-03-31       NaN       NaN -0.243975\n",
       "1926-04-30       NaN       NaN -0.240905\n",
       "1926-05-28       NaN       NaN -0.237490\n",
       "1926-06-30       NaN       NaN -0.233921\n",
       "...              ...       ...       ...\n",
       "2021-04-30 -0.090351 -0.073571 -0.081622\n",
       "2021-05-28 -0.090349 -0.074457 -0.081851\n",
       "2021-06-30 -0.090310 -0.074367 -0.080633\n",
       "2021-07-30 -0.090278 -0.074536 -0.079702\n",
       "2021-08-31 -0.090246 -0.074311 -0.078803\n",
       "\n",
       "[1135 rows x 3 columns]"
      ]
     },
     "metadata": {},
     "output_type": "display_data"
    }
   ],
   "source": [
    "#part b\n",
    "var_expanding = -1.65*sigma_expanding\n",
    "var_roll = -1.65*sigma_roll\n",
    "var_igarch = -1.65*sigma_ig\n",
    "\n",
    "q22 = pd.concat([var_expanding,var_roll,var_igarch], axis=1)\n",
    "print('Solution Table 4')\n",
    "display(q22)"
   ]
  },
  {
   "cell_type": "code",
   "execution_count": 24,
   "metadata": {},
   "outputs": [
    {
     "data": {
      "text/plain": [
       "<matplotlib.legend.Legend at 0x1292cb730>"
      ]
     },
     "execution_count": 24,
     "metadata": {},
     "output_type": "execute_result"
    },
    {
     "data": {
      "image/png": "[encoded data removed]",
      "text/plain": [
       "<Figure size 432x288 with 1 Axes>"
      ]
     },
     "metadata": {
      "needs_background": "light"
     },
     "output_type": "display_data"
    }
   ],
   "source": [
    "plt.plot(var_expanding,label='Expanding')\n",
    "plt.plot(var_roll,label='Rolling')\n",
    "plt.plot(var_igarch,label='Igarch')\n",
    "plt.ylabel('VaR')\n",
    "plt.legend()"
   ]
  },
  {
   "cell_type": "markdown",
   "metadata": {},
   "source": [
    "***c) Para cada una de estas estimaciones, calcule la frecuencia de los periodos donde rt^VaR,.05.***\n"
   ]
  },
  {
   "cell_type": "code",
   "execution_count": 28,
   "metadata": {},
   "outputs": [
    {
     "name": "stdout",
     "output_type": "stream",
     "text": [
      "Frequency of tilde_r < var_expanding: 19\n",
      "Frequency of tilde_r < var_rolling: 51\n",
      "Frequency of tilde_r < var_igarch: 46\n"
     ]
    }
   ],
   "source": [
    "#part c\n",
    "freq = np.size(var_expanding[df.loc[var_expanding.index]['tilde_r']<var_expanding])\n",
    "print(\"Frequency of tilde_r < var_expanding: %d\" %freq)\n",
    "freq = np.size(var_roll[df.loc[var_roll.index]['tilde_r']<var_roll])\n",
    "print(\"Frequency of tilde_r < var_rolling: %d\" %freq)\n",
    "freq = np.size(var_igarch[df.loc[var_igarch.index]['tilde_r']<var_igarch])\n",
    "print(\"Frequency of tilde_r < var_igarch: %d\" %freq)"
   ]
  },
  {
   "cell_type": "markdown",
   "metadata": {},
   "source": [
    "***d) Compare y contraste los resultados de cada una de estas estimaciones paramétricas y relativa con el método histórico.***"
   ]
  },
  {
   "cell_type": "code",
   "execution_count": null,
   "metadata": {},
   "outputs": [],
   "source": [
    "Respuesta"
   ]
  }
 ],
 "metadata": {
  "kernelspec": {
   "display_name": "Python 3 (ipykernel)",
   "language": "python",
   "name": "python3"
  },
  "language_info": {
   "codemirror_mode": {
    "name": "ipython",
    "version": 3
   },
   "file_extension": ".py",
   "mimetype": "text/x-python",
   "name": "python",
   "nbconvert_exporter": "python",
   "pygments_lexer": "ipython3",
   "version": "3.9.12"
  }
 },
 "nbformat": 4,
 "nbformat_minor": 2
}
